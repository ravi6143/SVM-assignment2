{
 "cells": [
  {
   "cell_type": "code",
   "execution_count": null,
   "id": "db7cf65d-b83c-45c2-9bf3-65bc17ed887b",
   "metadata": {},
   "outputs": [],
   "source": []
  },
  {
   "cell_type": "markdown",
   "id": "6e3663cb-2ea1-4d5b-927c-7049517f4136",
   "metadata": {},
   "source": [
    "## Question - 1\n",
    "ans  - "
   ]
  },
  {
   "cell_type": "markdown",
   "id": "d29b8edb-402e-4658-a67c-dd04bad2884a",
   "metadata": {},
   "source": [
    "1. Polynomial Functions:\n",
    "\n",
    "* Definition: Polynomial functions are mathematical functions involving variables raised to whole number powers. In the context of machine learning, polynomial functions can be used to model non-linear relationships between input features.\n",
    "\n",
    "* Example: \n",
    "f(x)= ax^2 + bx + c\n",
    "\n",
    "\n",
    "2. Kernel Functions:\n",
    "\n",
    "* Definition: Kernel functions are functions that compute the similarity or distance between pairs of data points in a higher-dimensional space. They are used in algorithms like Support Vector Machines (SVMs) to implicitly map data into a higher-dimensional space without explicitly computing the transformation.\n",
    "\n",
    "* Purpose: Kernels allow linear models to capture complex, non-linear relationships in the data by transforming the input space.\n",
    "\n",
    "* Example (Polynomial Kernel): \n",
    "K(x,y)=(x^T . y + c)^d\n",
    " \n",
    "3. Polynomial Kernel in SVMs:\n",
    "\n",
    "* Usage: SVMs with a polynomial kernel use polynomial functions to implicitly map the input data into a higher-dimensional space.\n",
    "\n",
    "* Equation: The polynomial kernel is defined as \n",
    "K(x,y)=(xT . y + c) \n",
    "d \n",
    " , where \n",
    "�\n",
    "x and \n",
    "�\n",
    "y are data points, \n",
    "�\n",
    "c is a constant, and \n",
    "�\n",
    "d is the degree of the polynomial.\n",
    "Effect: The polynomial kernel introduces non-linearity into the decision boundary, allowing SVMs to capture complex patterns.\n",
    "4. Relationship:\n",
    "The relationship lies in the fact that polynomial functions are used as the basis for polynomial kernel functions in SVMs.\n",
    "Polynomial kernel functions compute the similarity (dot product) between data points as if they were mapped into a higher-dimensional space using a polynomial transformation.\n",
    "This relationship allows SVMs to effectively handle non-linear relationships in the data by implicitly working in a higher-dimensional space without explicitly performing the transformation.\n",
    "5. Degree of Polynomial:\n",
    "The degree of the polynomial in both polynomial functions and polynomial kernel functions is a critical parameter. It determines the complexity of the non-linear relationships that can be captured. Higher degrees can capture more complex patterns but may also lead to overfitting."
   ]
  },
  {
   "cell_type": "code",
   "execution_count": null,
   "id": "4e117175-ed20-4eaa-a22a-d93a59f85805",
   "metadata": {},
   "outputs": [],
   "source": []
  },
  {
   "cell_type": "code",
   "execution_count": null,
   "id": "0de08ff7-1358-4560-a274-ed7e4aa602cd",
   "metadata": {},
   "outputs": [],
   "source": []
  },
  {
   "cell_type": "markdown",
   "id": "ac763f85-8905-4a02-9c5d-f515f002a365",
   "metadata": {},
   "source": [
    "## Question - 2\n",
    "ans  -"
   ]
  },
  {
   "cell_type": "code",
   "execution_count": 11,
   "id": "91b40627-9c67-4167-943f-da521328104e",
   "metadata": {},
   "outputs": [],
   "source": [
    "from sklearn.datasets import make_classification\n",
    "\n",
    "x,y = make_classification(n_samples = 1000 , n_features=2 , n_classes=2, n_redundant=0 , n_informative = 2, random_state=42)"
   ]
  },
  {
   "cell_type": "code",
   "execution_count": 12,
   "id": "3985cc29-e818-4b5a-bf13-dd2ddb224afa",
   "metadata": {},
   "outputs": [],
   "source": [
    "import pandas as pd\n",
    "import numpy as np\n",
    "import matplotlib.pyplot as plt\n"
   ]
  },
  {
   "cell_type": "code",
   "execution_count": 13,
   "id": "4ca3aba4-1c15-42cb-a063-3808bcb7324f",
   "metadata": {},
   "outputs": [],
   "source": [
    "from sklearn.model_selection import train_test_split\n",
    "\n",
    "x_train ,x_test , y_train , y_test = train_test_split(x,y,test_size=0.25,random_state=42)"
   ]
  },
  {
   "cell_type": "code",
   "execution_count": 14,
   "id": "743a5916-4e58-4947-b100-3000bcead87b",
   "metadata": {},
   "outputs": [
    {
     "data": {
      "text/html": [
       "<style>#sk-container-id-1 {color: black;background-color: white;}#sk-container-id-1 pre{padding: 0;}#sk-container-id-1 div.sk-toggleable {background-color: white;}#sk-container-id-1 label.sk-toggleable__label {cursor: pointer;display: block;width: 100%;margin-bottom: 0;padding: 0.3em;box-sizing: border-box;text-align: center;}#sk-container-id-1 label.sk-toggleable__label-arrow:before {content: \"▸\";float: left;margin-right: 0.25em;color: #696969;}#sk-container-id-1 label.sk-toggleable__label-arrow:hover:before {color: black;}#sk-container-id-1 div.sk-estimator:hover label.sk-toggleable__label-arrow:before {color: black;}#sk-container-id-1 div.sk-toggleable__content {max-height: 0;max-width: 0;overflow: hidden;text-align: left;background-color: #f0f8ff;}#sk-container-id-1 div.sk-toggleable__content pre {margin: 0.2em;color: black;border-radius: 0.25em;background-color: #f0f8ff;}#sk-container-id-1 input.sk-toggleable__control:checked~div.sk-toggleable__content {max-height: 200px;max-width: 100%;overflow: auto;}#sk-container-id-1 input.sk-toggleable__control:checked~label.sk-toggleable__label-arrow:before {content: \"▾\";}#sk-container-id-1 div.sk-estimator input.sk-toggleable__control:checked~label.sk-toggleable__label {background-color: #d4ebff;}#sk-container-id-1 div.sk-label input.sk-toggleable__control:checked~label.sk-toggleable__label {background-color: #d4ebff;}#sk-container-id-1 input.sk-hidden--visually {border: 0;clip: rect(1px 1px 1px 1px);clip: rect(1px, 1px, 1px, 1px);height: 1px;margin: -1px;overflow: hidden;padding: 0;position: absolute;width: 1px;}#sk-container-id-1 div.sk-estimator {font-family: monospace;background-color: #f0f8ff;border: 1px dotted black;border-radius: 0.25em;box-sizing: border-box;margin-bottom: 0.5em;}#sk-container-id-1 div.sk-estimator:hover {background-color: #d4ebff;}#sk-container-id-1 div.sk-parallel-item::after {content: \"\";width: 100%;border-bottom: 1px solid gray;flex-grow: 1;}#sk-container-id-1 div.sk-label:hover label.sk-toggleable__label {background-color: #d4ebff;}#sk-container-id-1 div.sk-serial::before {content: \"\";position: absolute;border-left: 1px solid gray;box-sizing: border-box;top: 0;bottom: 0;left: 50%;z-index: 0;}#sk-container-id-1 div.sk-serial {display: flex;flex-direction: column;align-items: center;background-color: white;padding-right: 0.2em;padding-left: 0.2em;position: relative;}#sk-container-id-1 div.sk-item {position: relative;z-index: 1;}#sk-container-id-1 div.sk-parallel {display: flex;align-items: stretch;justify-content: center;background-color: white;position: relative;}#sk-container-id-1 div.sk-item::before, #sk-container-id-1 div.sk-parallel-item::before {content: \"\";position: absolute;border-left: 1px solid gray;box-sizing: border-box;top: 0;bottom: 0;left: 50%;z-index: -1;}#sk-container-id-1 div.sk-parallel-item {display: flex;flex-direction: column;z-index: 1;position: relative;background-color: white;}#sk-container-id-1 div.sk-parallel-item:first-child::after {align-self: flex-end;width: 50%;}#sk-container-id-1 div.sk-parallel-item:last-child::after {align-self: flex-start;width: 50%;}#sk-container-id-1 div.sk-parallel-item:only-child::after {width: 0;}#sk-container-id-1 div.sk-dashed-wrapped {border: 1px dashed gray;margin: 0 0.4em 0.5em 0.4em;box-sizing: border-box;padding-bottom: 0.4em;background-color: white;}#sk-container-id-1 div.sk-label label {font-family: monospace;font-weight: bold;display: inline-block;line-height: 1.2em;}#sk-container-id-1 div.sk-label-container {text-align: center;}#sk-container-id-1 div.sk-container {/* jupyter's `normalize.less` sets `[hidden] { display: none; }` but bootstrap.min.css set `[hidden] { display: none !important; }` so we also need the `!important` here to be able to override the default hidden behavior on the sphinx rendered scikit-learn.org. See: https://github.com/scikit-learn/scikit-learn/issues/21755 */display: inline-block !important;position: relative;}#sk-container-id-1 div.sk-text-repr-fallback {display: none;}</style><div id=\"sk-container-id-1\" class=\"sk-top-container\"><div class=\"sk-text-repr-fallback\"><pre>SVC(kernel=&#x27;poly&#x27;)</pre><b>In a Jupyter environment, please rerun this cell to show the HTML representation or trust the notebook. <br />On GitHub, the HTML representation is unable to render, please try loading this page with nbviewer.org.</b></div><div class=\"sk-container\" hidden><div class=\"sk-item\"><div class=\"sk-estimator sk-toggleable\"><input class=\"sk-toggleable__control sk-hidden--visually\" id=\"sk-estimator-id-1\" type=\"checkbox\" checked><label for=\"sk-estimator-id-1\" class=\"sk-toggleable__label sk-toggleable__label-arrow\">SVC</label><div class=\"sk-toggleable__content\"><pre>SVC(kernel=&#x27;poly&#x27;)</pre></div></div></div></div></div>"
      ],
      "text/plain": [
       "SVC(kernel='poly')"
      ]
     },
     "execution_count": 14,
     "metadata": {},
     "output_type": "execute_result"
    }
   ],
   "source": [
    "from sklearn.svm import SVC\n",
    "\n",
    "svc = SVC(kernel = 'poly')\n",
    "\n",
    "svc.fit(x_train , y_train)\n"
   ]
  },
  {
   "cell_type": "code",
   "execution_count": 15,
   "id": "4a81df9e-c46a-4828-b573-8fc649c9c0c2",
   "metadata": {},
   "outputs": [],
   "source": [
    "y_pred = svc.predict(x_test)"
   ]
  },
  {
   "cell_type": "code",
   "execution_count": 16,
   "id": "860dd731-8175-4784-bda7-6603d793f256",
   "metadata": {},
   "outputs": [
    {
     "name": "stdout",
     "output_type": "stream",
     "text": [
      "0.88\n"
     ]
    }
   ],
   "source": [
    "from sklearn.metrics import accuracy_score\n",
    "\n",
    "print(accuracy_score(y_pred , y_test))"
   ]
  },
  {
   "cell_type": "code",
   "execution_count": null,
   "id": "6f75cfd8-9886-485a-aa8e-9329528b06dc",
   "metadata": {},
   "outputs": [],
   "source": []
  },
  {
   "cell_type": "code",
   "execution_count": null,
   "id": "f22451cd-941b-4fb8-80ab-3997846a418b",
   "metadata": {},
   "outputs": [],
   "source": []
  },
  {
   "cell_type": "markdown",
   "id": "e33e8124-1961-4a94-be84-1812a68dbd89",
   "metadata": {},
   "source": [
    "## Question - 3\n",
    "ans - "
   ]
  },
  {
   "cell_type": "markdown",
   "id": "68b2a465-0f8a-42b0-89a1-fa4f8cbafbe4",
   "metadata": {},
   "source": [
    "increasing the value of epsilon in SVR tends to result in a wider ε-insensitive tube, allowing for larger errors and potentially reducing the number of support vectors. The choice of epsilon should be based on the characteristics of the data and the desired balance between model complexity and generalization."
   ]
  },
  {
   "cell_type": "code",
   "execution_count": null,
   "id": "fc1c2755-4477-4863-8da5-d7936aeb54cf",
   "metadata": {},
   "outputs": [],
   "source": []
  },
  {
   "cell_type": "code",
   "execution_count": null,
   "id": "4132531e-295f-4fcf-904a-c73944bc4d16",
   "metadata": {},
   "outputs": [],
   "source": []
  },
  {
   "cell_type": "markdown",
   "id": "3792254d-937d-45c5-9f66-37d811e2e276",
   "metadata": {},
   "source": [
    "## Question - 4\n",
    "ans - "
   ]
  },
  {
   "cell_type": "markdown",
   "id": "8974daf5-212c-4836-8381-87d6aeceb98c",
   "metadata": {},
   "source": [
    "1. Kernel Function:\n",
    "\n",
    "* Purpose: The kernel function determines the type of mapping applied to the input features to transform them into a higher-dimensional space. Common choices include linear, polynomial, and radial basis function (RBF or Gaussian) kernels.\n",
    "\n",
    "* Impact:\n",
    "A linear kernel is suitable for linear relationships.\n",
    "Polynomial kernels introduce non-linearity and are effective for capturing complex patterns.\n",
    "RBF kernels are versatile and can capture intricate relationships.\n",
    "\n",
    "2. C Parameter:\n",
    "\n",
    "* Purpose: The C parameter controls the trade-off between a smooth decision boundary and accurately fitting the training data.\n",
    "\n",
    "* Impact:\n",
    "Smaller C values lead to a softer margin, allowing more errors but promoting a smoother decision boundary.\n",
    "Larger C values result in a harder margin, minimizing errors but potentially overfitting to noise in the training data.\n",
    "\n",
    "* Example:\n",
    "Increase C when the training data is expected to have minimal noise.\n",
    "Decrease C when the model should be more tolerant of errors.\n",
    "\n",
    "3. Epsilon Parameter (ε):\n",
    "\n",
    "* Purpose: The epsilon parameter defines the width of the ε-insensitive tube around the predicted values. It determines the range within which errors are not penalized.\n",
    "\n",
    "* Impact:\n",
    "Smaller ε values lead to a narrower tube, making the model more sensitive to errors.\n",
    "Larger ε values result in a wider tube, allowing for larger errors without penalty.\n",
    "\n",
    "* Example:\n",
    "Increase ε when the goal is to create a more flexible model that tolerates larger errors.\n",
    "Decrease ε when a more precise fit to the training data is desired.\n",
    "\n",
    "4. Gamma Parameter (γ):\n",
    "\n",
    "* Purpose: The gamma parameter defines the influence of a single training example, affecting the shape of the decision boundary.\n",
    "\n",
    "* Impact:\n",
    "Smaller γ values lead to a broader decision boundary, making the model more influenced by distant points.\n",
    "Larger γ values result in a narrower decision boundary, making the model more focused on nearby points.\n",
    "\n",
    "* Example:\n",
    "Increase γ when the training data is expected to be concentrated in certain regions.\n",
    "Decrease γ when the model should consider a wider range of data points.\n",
    "\n",
    "\n",
    "5. Overall Considerations:\n",
    "\n",
    "\n",
    "The choice of hyperparameters often involves experimentation, grid search, and cross-validation.\n",
    "Performance may vary depending on the characteristics of the data, such as its size, noise level, and complexity.\n",
    "Regularization parameters (C, ε) balance the fit to the training data with the goal of generalization to new data.\n",
    "Kernel parameters (kernel, γ) influence the model's ability to capture non-linear relationships."
   ]
  },
  {
   "cell_type": "code",
   "execution_count": null,
   "id": "ec87754a-e2d0-40c8-81e5-305307b4f9a9",
   "metadata": {},
   "outputs": [],
   "source": []
  },
  {
   "cell_type": "code",
   "execution_count": null,
   "id": "989698d3-17d6-444d-bf6d-ff996690da45",
   "metadata": {},
   "outputs": [],
   "source": []
  },
  {
   "cell_type": "markdown",
   "id": "8b4a1f9d-4ce4-4287-a0ab-adae31310c64",
   "metadata": {},
   "source": [
    "## Question - 5\n",
    "ans"
   ]
  },
  {
   "cell_type": "code",
   "execution_count": 17,
   "id": "1cae5240-6b99-4f11-8c3e-a4cd7f3cc275",
   "metadata": {},
   "outputs": [],
   "source": [
    "import pandas as pd\n",
    "import numpy as np\n",
    "import seaborn as sns\n",
    "import matplotlib.pyplot as plt\n",
    "\n",
    "from warnings import filterwarnings \n",
    "filterwarnings('ignore')"
   ]
  },
  {
   "cell_type": "code",
   "execution_count": 18,
   "id": "5c7d7024-518b-41c3-9e30-a33b8cea637f",
   "metadata": {},
   "outputs": [],
   "source": [
    "from sklearn.datasets import load_iris\n",
    "\n",
    "iris = load_iris()"
   ]
  },
  {
   "cell_type": "code",
   "execution_count": 20,
   "id": "4231229b-62f5-4a09-a985-4352bfd54724",
   "metadata": {},
   "outputs": [
    {
     "data": {
      "text/plain": [
       "['sepal length (cm)',\n",
       " 'sepal width (cm)',\n",
       " 'petal length (cm)',\n",
       " 'petal width (cm)']"
      ]
     },
     "execution_count": 20,
     "metadata": {},
     "output_type": "execute_result"
    }
   ],
   "source": [
    "iris.feature_names"
   ]
  },
  {
   "cell_type": "code",
   "execution_count": 21,
   "id": "ee98472a-1709-449c-bd94-39fee789fad2",
   "metadata": {},
   "outputs": [],
   "source": [
    "x = pd.DataFrame(iris.data , columns = iris.feature_names)"
   ]
  },
  {
   "cell_type": "code",
   "execution_count": 22,
   "id": "25ebe249-ab2f-4f52-8cc8-3bff5810c704",
   "metadata": {},
   "outputs": [
    {
     "data": {
      "text/html": [
       "<div>\n",
       "<style scoped>\n",
       "    .dataframe tbody tr th:only-of-type {\n",
       "        vertical-align: middle;\n",
       "    }\n",
       "\n",
       "    .dataframe tbody tr th {\n",
       "        vertical-align: top;\n",
       "    }\n",
       "\n",
       "    .dataframe thead th {\n",
       "        text-align: right;\n",
       "    }\n",
       "</style>\n",
       "<table border=\"1\" class=\"dataframe\">\n",
       "  <thead>\n",
       "    <tr style=\"text-align: right;\">\n",
       "      <th></th>\n",
       "      <th>sepal length (cm)</th>\n",
       "      <th>sepal width (cm)</th>\n",
       "      <th>petal length (cm)</th>\n",
       "      <th>petal width (cm)</th>\n",
       "    </tr>\n",
       "  </thead>\n",
       "  <tbody>\n",
       "    <tr>\n",
       "      <th>0</th>\n",
       "      <td>5.1</td>\n",
       "      <td>3.5</td>\n",
       "      <td>1.4</td>\n",
       "      <td>0.2</td>\n",
       "    </tr>\n",
       "    <tr>\n",
       "      <th>1</th>\n",
       "      <td>4.9</td>\n",
       "      <td>3.0</td>\n",
       "      <td>1.4</td>\n",
       "      <td>0.2</td>\n",
       "    </tr>\n",
       "    <tr>\n",
       "      <th>2</th>\n",
       "      <td>4.7</td>\n",
       "      <td>3.2</td>\n",
       "      <td>1.3</td>\n",
       "      <td>0.2</td>\n",
       "    </tr>\n",
       "    <tr>\n",
       "      <th>3</th>\n",
       "      <td>4.6</td>\n",
       "      <td>3.1</td>\n",
       "      <td>1.5</td>\n",
       "      <td>0.2</td>\n",
       "    </tr>\n",
       "    <tr>\n",
       "      <th>4</th>\n",
       "      <td>5.0</td>\n",
       "      <td>3.6</td>\n",
       "      <td>1.4</td>\n",
       "      <td>0.2</td>\n",
       "    </tr>\n",
       "  </tbody>\n",
       "</table>\n",
       "</div>"
      ],
      "text/plain": [
       "   sepal length (cm)  sepal width (cm)  petal length (cm)  petal width (cm)\n",
       "0                5.1               3.5                1.4               0.2\n",
       "1                4.9               3.0                1.4               0.2\n",
       "2                4.7               3.2                1.3               0.2\n",
       "3                4.6               3.1                1.5               0.2\n",
       "4                5.0               3.6                1.4               0.2"
      ]
     },
     "execution_count": 22,
     "metadata": {},
     "output_type": "execute_result"
    }
   ],
   "source": [
    "x.head()"
   ]
  },
  {
   "cell_type": "code",
   "execution_count": 23,
   "id": "f70cb18d-55b0-400e-b00b-72ea115f0495",
   "metadata": {},
   "outputs": [],
   "source": [
    "y = iris.target"
   ]
  },
  {
   "cell_type": "code",
   "execution_count": 24,
   "id": "269b5c74-342f-4293-92af-f53840e859fb",
   "metadata": {},
   "outputs": [
    {
     "data": {
      "text/plain": [
       "array([0, 0, 0, 0, 0, 0, 0, 0, 0, 0, 0, 0, 0, 0, 0, 0, 0, 0, 0, 0, 0, 0,\n",
       "       0, 0, 0, 0, 0, 0, 0, 0, 0, 0, 0, 0, 0, 0, 0, 0, 0, 0, 0, 0, 0, 0,\n",
       "       0, 0, 0, 0, 0, 0, 1, 1, 1, 1, 1, 1, 1, 1, 1, 1, 1, 1, 1, 1, 1, 1,\n",
       "       1, 1, 1, 1, 1, 1, 1, 1, 1, 1, 1, 1, 1, 1, 1, 1, 1, 1, 1, 1, 1, 1,\n",
       "       1, 1, 1, 1, 1, 1, 1, 1, 1, 1, 1, 1, 2, 2, 2, 2, 2, 2, 2, 2, 2, 2,\n",
       "       2, 2, 2, 2, 2, 2, 2, 2, 2, 2, 2, 2, 2, 2, 2, 2, 2, 2, 2, 2, 2, 2,\n",
       "       2, 2, 2, 2, 2, 2, 2, 2, 2, 2, 2, 2, 2, 2, 2, 2, 2, 2])"
      ]
     },
     "execution_count": 24,
     "metadata": {},
     "output_type": "execute_result"
    }
   ],
   "source": [
    "y"
   ]
  },
  {
   "cell_type": "code",
   "execution_count": 25,
   "id": "5b41034c-32bb-46b7-a398-fcdd9336d6a7",
   "metadata": {},
   "outputs": [],
   "source": [
    "from sklearn.model_selection import train_test_split\n",
    "\n",
    "x_train , x_test , y_train , y_test = train_test_split(x,y , test_size=0.33 , random_state=42)"
   ]
  },
  {
   "cell_type": "code",
   "execution_count": 26,
   "id": "27e58712-5493-4b6d-902d-af19e4f92ebd",
   "metadata": {},
   "outputs": [],
   "source": [
    "from sklearn.preprocessing import StandardScaler\n",
    "\n",
    "scaler = StandardScaler()\n",
    "\n",
    "x_train_scaled = scaler.fit_transform(x_train)\n",
    "x_test_scaled = scaler.transform(x_test)"
   ]
  },
  {
   "cell_type": "code",
   "execution_count": 27,
   "id": "bb7aeaf0-a976-413e-b6e4-55720bf7cfff",
   "metadata": {},
   "outputs": [
    {
     "data": {
      "text/html": [
       "<style>#sk-container-id-2 {color: black;background-color: white;}#sk-container-id-2 pre{padding: 0;}#sk-container-id-2 div.sk-toggleable {background-color: white;}#sk-container-id-2 label.sk-toggleable__label {cursor: pointer;display: block;width: 100%;margin-bottom: 0;padding: 0.3em;box-sizing: border-box;text-align: center;}#sk-container-id-2 label.sk-toggleable__label-arrow:before {content: \"▸\";float: left;margin-right: 0.25em;color: #696969;}#sk-container-id-2 label.sk-toggleable__label-arrow:hover:before {color: black;}#sk-container-id-2 div.sk-estimator:hover label.sk-toggleable__label-arrow:before {color: black;}#sk-container-id-2 div.sk-toggleable__content {max-height: 0;max-width: 0;overflow: hidden;text-align: left;background-color: #f0f8ff;}#sk-container-id-2 div.sk-toggleable__content pre {margin: 0.2em;color: black;border-radius: 0.25em;background-color: #f0f8ff;}#sk-container-id-2 input.sk-toggleable__control:checked~div.sk-toggleable__content {max-height: 200px;max-width: 100%;overflow: auto;}#sk-container-id-2 input.sk-toggleable__control:checked~label.sk-toggleable__label-arrow:before {content: \"▾\";}#sk-container-id-2 div.sk-estimator input.sk-toggleable__control:checked~label.sk-toggleable__label {background-color: #d4ebff;}#sk-container-id-2 div.sk-label input.sk-toggleable__control:checked~label.sk-toggleable__label {background-color: #d4ebff;}#sk-container-id-2 input.sk-hidden--visually {border: 0;clip: rect(1px 1px 1px 1px);clip: rect(1px, 1px, 1px, 1px);height: 1px;margin: -1px;overflow: hidden;padding: 0;position: absolute;width: 1px;}#sk-container-id-2 div.sk-estimator {font-family: monospace;background-color: #f0f8ff;border: 1px dotted black;border-radius: 0.25em;box-sizing: border-box;margin-bottom: 0.5em;}#sk-container-id-2 div.sk-estimator:hover {background-color: #d4ebff;}#sk-container-id-2 div.sk-parallel-item::after {content: \"\";width: 100%;border-bottom: 1px solid gray;flex-grow: 1;}#sk-container-id-2 div.sk-label:hover label.sk-toggleable__label {background-color: #d4ebff;}#sk-container-id-2 div.sk-serial::before {content: \"\";position: absolute;border-left: 1px solid gray;box-sizing: border-box;top: 0;bottom: 0;left: 50%;z-index: 0;}#sk-container-id-2 div.sk-serial {display: flex;flex-direction: column;align-items: center;background-color: white;padding-right: 0.2em;padding-left: 0.2em;position: relative;}#sk-container-id-2 div.sk-item {position: relative;z-index: 1;}#sk-container-id-2 div.sk-parallel {display: flex;align-items: stretch;justify-content: center;background-color: white;position: relative;}#sk-container-id-2 div.sk-item::before, #sk-container-id-2 div.sk-parallel-item::before {content: \"\";position: absolute;border-left: 1px solid gray;box-sizing: border-box;top: 0;bottom: 0;left: 50%;z-index: -1;}#sk-container-id-2 div.sk-parallel-item {display: flex;flex-direction: column;z-index: 1;position: relative;background-color: white;}#sk-container-id-2 div.sk-parallel-item:first-child::after {align-self: flex-end;width: 50%;}#sk-container-id-2 div.sk-parallel-item:last-child::after {align-self: flex-start;width: 50%;}#sk-container-id-2 div.sk-parallel-item:only-child::after {width: 0;}#sk-container-id-2 div.sk-dashed-wrapped {border: 1px dashed gray;margin: 0 0.4em 0.5em 0.4em;box-sizing: border-box;padding-bottom: 0.4em;background-color: white;}#sk-container-id-2 div.sk-label label {font-family: monospace;font-weight: bold;display: inline-block;line-height: 1.2em;}#sk-container-id-2 div.sk-label-container {text-align: center;}#sk-container-id-2 div.sk-container {/* jupyter's `normalize.less` sets `[hidden] { display: none; }` but bootstrap.min.css set `[hidden] { display: none !important; }` so we also need the `!important` here to be able to override the default hidden behavior on the sphinx rendered scikit-learn.org. See: https://github.com/scikit-learn/scikit-learn/issues/21755 */display: inline-block !important;position: relative;}#sk-container-id-2 div.sk-text-repr-fallback {display: none;}</style><div id=\"sk-container-id-2\" class=\"sk-top-container\"><div class=\"sk-text-repr-fallback\"><pre>SVC()</pre><b>In a Jupyter environment, please rerun this cell to show the HTML representation or trust the notebook. <br />On GitHub, the HTML representation is unable to render, please try loading this page with nbviewer.org.</b></div><div class=\"sk-container\" hidden><div class=\"sk-item\"><div class=\"sk-estimator sk-toggleable\"><input class=\"sk-toggleable__control sk-hidden--visually\" id=\"sk-estimator-id-2\" type=\"checkbox\" checked><label for=\"sk-estimator-id-2\" class=\"sk-toggleable__label sk-toggleable__label-arrow\">SVC</label><div class=\"sk-toggleable__content\"><pre>SVC()</pre></div></div></div></div></div>"
      ],
      "text/plain": [
       "SVC()"
      ]
     },
     "execution_count": 27,
     "metadata": {},
     "output_type": "execute_result"
    }
   ],
   "source": [
    "from sklearn.svm import SVC\n",
    "\n",
    "svc_classifier = SVC()\n",
    "\n",
    "svc_classifier.fit(x_train_scaled , y_train)\n"
   ]
  },
  {
   "cell_type": "code",
   "execution_count": 30,
   "id": "1a9f6fec-103e-45fb-9c01-836ceef66033",
   "metadata": {},
   "outputs": [
    {
     "data": {
      "text/plain": [
       "array([1, 0, 2, 1, 1, 0, 1, 2, 1, 1, 2, 0, 0, 0, 0, 1, 2, 1, 1, 2, 0, 2,\n",
       "       0, 2, 2, 2, 2, 2, 0, 0, 0, 0, 1, 0, 0, 2, 1, 0, 0, 0, 2, 1, 1, 0,\n",
       "       0, 1, 1, 2, 1, 2])"
      ]
     },
     "execution_count": 30,
     "metadata": {},
     "output_type": "execute_result"
    }
   ],
   "source": [
    "y_pred = svc_classifier.predict(x_test_scaled)\n",
    "\n",
    "y_pred"
   ]
  },
  {
   "cell_type": "code",
   "execution_count": 29,
   "id": "0c86a272-40f4-4cc2-b37d-56fe6b68f727",
   "metadata": {},
   "outputs": [
    {
     "name": "stdout",
     "output_type": "stream",
     "text": [
      "0.98\n",
      "              precision    recall  f1-score   support\n",
      "\n",
      "           0       1.00      1.00      1.00        19\n",
      "           1       1.00      0.94      0.97        16\n",
      "           2       0.94      1.00      0.97        15\n",
      "\n",
      "    accuracy                           0.98        50\n",
      "   macro avg       0.98      0.98      0.98        50\n",
      "weighted avg       0.98      0.98      0.98        50\n",
      "\n"
     ]
    }
   ],
   "source": [
    "from sklearn.metrics import classification_report , accuracy_score\n",
    "\n",
    "print(accuracy_score(y_pred , y_test))\n",
    "print(classification_report(y_pred , y_test))"
   ]
  },
  {
   "cell_type": "code",
   "execution_count": null,
   "id": "2d89da88-251f-400f-853e-87c00b93336e",
   "metadata": {},
   "outputs": [],
   "source": []
  },
  {
   "cell_type": "code",
   "execution_count": 31,
   "id": "c4da688f-9b2e-464b-9260-1acbb26962d1",
   "metadata": {},
   "outputs": [
    {
     "name": "stdout",
     "output_type": "stream",
     "text": [
      "Fitting 5 folds for each of 100 candidates, totalling 500 fits\n",
      "[CV 1/5] END .....C=1, gamma=0.1, kernel=linear;, score=1.000 total time=   0.0s\n",
      "[CV 2/5] END .....C=1, gamma=0.1, kernel=linear;, score=0.800 total time=   0.0s\n",
      "[CV 3/5] END .....C=1, gamma=0.1, kernel=linear;, score=0.900 total time=   0.0s\n",
      "[CV 4/5] END .....C=1, gamma=0.1, kernel=linear;, score=1.000 total time=   0.0s\n",
      "[CV 5/5] END .....C=1, gamma=0.1, kernel=linear;, score=0.950 total time=   0.0s\n",
      "[CV 1/5] END .......C=1, gamma=0.1, kernel=poly;, score=0.800 total time=   0.0s\n",
      "[CV 2/5] END .......C=1, gamma=0.1, kernel=poly;, score=0.750 total time=   0.0s\n",
      "[CV 3/5] END .......C=1, gamma=0.1, kernel=poly;, score=0.750 total time=   0.0s\n",
      "[CV 4/5] END .......C=1, gamma=0.1, kernel=poly;, score=0.850 total time=   0.0s\n",
      "[CV 5/5] END .......C=1, gamma=0.1, kernel=poly;, score=0.750 total time=   0.0s\n",
      "[CV 1/5] END ........C=1, gamma=0.1, kernel=rbf;, score=0.950 total time=   0.0s\n",
      "[CV 2/5] END ........C=1, gamma=0.1, kernel=rbf;, score=0.800 total time=   0.0s\n",
      "[CV 3/5] END ........C=1, gamma=0.1, kernel=rbf;, score=0.900 total time=   0.0s\n",
      "[CV 4/5] END ........C=1, gamma=0.1, kernel=rbf;, score=1.000 total time=   0.0s\n",
      "[CV 5/5] END ........C=1, gamma=0.1, kernel=rbf;, score=0.900 total time=   0.0s\n",
      "[CV 1/5] END ....C=1, gamma=0.1, kernel=sigmoid;, score=1.000 total time=   0.0s\n",
      "[CV 2/5] END ....C=1, gamma=0.1, kernel=sigmoid;, score=0.800 total time=   0.0s\n",
      "[CV 3/5] END ....C=1, gamma=0.1, kernel=sigmoid;, score=1.000 total time=   0.0s\n",
      "[CV 4/5] END ....C=1, gamma=0.1, kernel=sigmoid;, score=1.000 total time=   0.0s\n",
      "[CV 5/5] END ....C=1, gamma=0.1, kernel=sigmoid;, score=0.900 total time=   0.0s\n",
      "[CV 1/5] END ...C=1, gamma=0.001, kernel=linear;, score=1.000 total time=   0.0s\n",
      "[CV 2/5] END ...C=1, gamma=0.001, kernel=linear;, score=0.800 total time=   0.0s\n",
      "[CV 3/5] END ...C=1, gamma=0.001, kernel=linear;, score=0.900 total time=   0.0s\n",
      "[CV 4/5] END ...C=1, gamma=0.001, kernel=linear;, score=1.000 total time=   0.0s\n",
      "[CV 5/5] END ...C=1, gamma=0.001, kernel=linear;, score=0.950 total time=   0.0s\n",
      "[CV 1/5] END .....C=1, gamma=0.001, kernel=poly;, score=0.350 total time=   0.0s\n",
      "[CV 2/5] END .....C=1, gamma=0.001, kernel=poly;, score=0.350 total time=   0.0s\n",
      "[CV 3/5] END .....C=1, gamma=0.001, kernel=poly;, score=0.350 total time=   0.0s\n",
      "[CV 4/5] END .....C=1, gamma=0.001, kernel=poly;, score=0.350 total time=   0.0s\n",
      "[CV 5/5] END .....C=1, gamma=0.001, kernel=poly;, score=0.350 total time=   0.0s\n",
      "[CV 1/5] END ......C=1, gamma=0.001, kernel=rbf;, score=0.350 total time=   0.0s\n",
      "[CV 2/5] END ......C=1, gamma=0.001, kernel=rbf;, score=0.350 total time=   0.0s\n",
      "[CV 3/5] END ......C=1, gamma=0.001, kernel=rbf;, score=0.350 total time=   0.0s\n",
      "[CV 4/5] END ......C=1, gamma=0.001, kernel=rbf;, score=0.350 total time=   0.0s\n",
      "[CV 5/5] END ......C=1, gamma=0.001, kernel=rbf;, score=0.450 total time=   0.0s\n",
      "[CV 1/5] END ..C=1, gamma=0.001, kernel=sigmoid;, score=0.350 total time=   0.0s\n",
      "[CV 2/5] END ..C=1, gamma=0.001, kernel=sigmoid;, score=0.350 total time=   0.0s\n",
      "[CV 3/5] END ..C=1, gamma=0.001, kernel=sigmoid;, score=0.350 total time=   0.0s\n",
      "[CV 4/5] END ..C=1, gamma=0.001, kernel=sigmoid;, score=0.350 total time=   0.0s\n",
      "[CV 5/5] END ..C=1, gamma=0.001, kernel=sigmoid;, score=0.450 total time=   0.0s\n",
      "[CV 1/5] END ..C=1, gamma=0.0001, kernel=linear;, score=1.000 total time=   0.0s\n",
      "[CV 2/5] END ..C=1, gamma=0.0001, kernel=linear;, score=0.800 total time=   0.0s\n",
      "[CV 3/5] END ..C=1, gamma=0.0001, kernel=linear;, score=0.900 total time=   0.0s\n",
      "[CV 4/5] END ..C=1, gamma=0.0001, kernel=linear;, score=1.000 total time=   0.0s\n",
      "[CV 5/5] END ..C=1, gamma=0.0001, kernel=linear;, score=0.950 total time=   0.0s\n",
      "[CV 1/5] END ....C=1, gamma=0.0001, kernel=poly;, score=0.350 total time=   0.0s\n",
      "[CV 2/5] END ....C=1, gamma=0.0001, kernel=poly;, score=0.350 total time=   0.0s\n",
      "[CV 3/5] END ....C=1, gamma=0.0001, kernel=poly;, score=0.350 total time=   0.0s\n",
      "[CV 4/5] END ....C=1, gamma=0.0001, kernel=poly;, score=0.350 total time=   0.0s\n",
      "[CV 5/5] END ....C=1, gamma=0.0001, kernel=poly;, score=0.350 total time=   0.0s\n",
      "[CV 1/5] END .....C=1, gamma=0.0001, kernel=rbf;, score=0.350 total time=   0.0s\n",
      "[CV 2/5] END .....C=1, gamma=0.0001, kernel=rbf;, score=0.350 total time=   0.0s\n",
      "[CV 3/5] END .....C=1, gamma=0.0001, kernel=rbf;, score=0.350 total time=   0.0s\n",
      "[CV 4/5] END .....C=1, gamma=0.0001, kernel=rbf;, score=0.350 total time=   0.0s\n",
      "[CV 5/5] END .....C=1, gamma=0.0001, kernel=rbf;, score=0.450 total time=   0.0s\n",
      "[CV 1/5] END .C=1, gamma=0.0001, kernel=sigmoid;, score=0.350 total time=   0.0s\n",
      "[CV 2/5] END .C=1, gamma=0.0001, kernel=sigmoid;, score=0.350 total time=   0.0s\n",
      "[CV 3/5] END .C=1, gamma=0.0001, kernel=sigmoid;, score=0.350 total time=   0.0s\n",
      "[CV 4/5] END .C=1, gamma=0.0001, kernel=sigmoid;, score=0.350 total time=   0.0s\n",
      "[CV 5/5] END .C=1, gamma=0.0001, kernel=sigmoid;, score=0.450 total time=   0.0s\n",
      "[CV 1/5] END ......C=1, gamma=10, kernel=linear;, score=1.000 total time=   0.0s\n",
      "[CV 2/5] END ......C=1, gamma=10, kernel=linear;, score=0.800 total time=   0.0s\n",
      "[CV 3/5] END ......C=1, gamma=10, kernel=linear;, score=0.900 total time=   0.0s\n",
      "[CV 4/5] END ......C=1, gamma=10, kernel=linear;, score=1.000 total time=   0.0s\n",
      "[CV 5/5] END ......C=1, gamma=10, kernel=linear;, score=0.950 total time=   0.0s\n",
      "[CV 1/5] END ........C=1, gamma=10, kernel=poly;, score=0.900 total time=   0.0s\n",
      "[CV 2/5] END ........C=1, gamma=10, kernel=poly;, score=0.800 total time=   0.0s\n",
      "[CV 3/5] END ........C=1, gamma=10, kernel=poly;, score=0.950 total time=   0.0s\n",
      "[CV 4/5] END ........C=1, gamma=10, kernel=poly;, score=0.950 total time=   0.0s\n",
      "[CV 5/5] END ........C=1, gamma=10, kernel=poly;, score=0.950 total time=   0.0s\n",
      "[CV 1/5] END .........C=1, gamma=10, kernel=rbf;, score=0.950 total time=   0.0s\n",
      "[CV 2/5] END .........C=1, gamma=10, kernel=rbf;, score=0.700 total time=   0.0s\n",
      "[CV 3/5] END .........C=1, gamma=10, kernel=rbf;, score=0.900 total time=   0.0s\n",
      "[CV 4/5] END .........C=1, gamma=10, kernel=rbf;, score=1.000 total time=   0.0s\n",
      "[CV 5/5] END .........C=1, gamma=10, kernel=rbf;, score=0.850 total time=   0.0s\n",
      "[CV 1/5] END .....C=1, gamma=10, kernel=sigmoid;, score=0.400 total time=   0.0s\n",
      "[CV 2/5] END .....C=1, gamma=10, kernel=sigmoid;, score=0.600 total time=   0.0s\n",
      "[CV 3/5] END .....C=1, gamma=10, kernel=sigmoid;, score=0.750 total time=   0.0s\n",
      "[CV 4/5] END .....C=1, gamma=10, kernel=sigmoid;, score=0.650 total time=   0.0s\n",
      "[CV 5/5] END .....C=1, gamma=10, kernel=sigmoid;, score=0.600 total time=   0.0s\n",
      "[CV 1/5] END .....C=1, gamma=0.3, kernel=linear;, score=1.000 total time=   0.0s\n",
      "[CV 2/5] END .....C=1, gamma=0.3, kernel=linear;, score=0.800 total time=   0.0s\n",
      "[CV 3/5] END .....C=1, gamma=0.3, kernel=linear;, score=0.900 total time=   0.0s\n",
      "[CV 4/5] END .....C=1, gamma=0.3, kernel=linear;, score=1.000 total time=   0.0s\n",
      "[CV 5/5] END .....C=1, gamma=0.3, kernel=linear;, score=0.950 total time=   0.0s\n",
      "[CV 1/5] END .......C=1, gamma=0.3, kernel=poly;, score=0.850 total time=   0.0s\n",
      "[CV 2/5] END .......C=1, gamma=0.3, kernel=poly;, score=0.900 total time=   0.0s\n",
      "[CV 3/5] END .......C=1, gamma=0.3, kernel=poly;, score=0.950 total time=   0.0s\n",
      "[CV 4/5] END .......C=1, gamma=0.3, kernel=poly;, score=1.000 total time=   0.0s\n",
      "[CV 5/5] END .......C=1, gamma=0.3, kernel=poly;, score=0.850 total time=   0.0s\n",
      "[CV 1/5] END ........C=1, gamma=0.3, kernel=rbf;, score=1.000 total time=   0.0s\n",
      "[CV 2/5] END ........C=1, gamma=0.3, kernel=rbf;, score=0.800 total time=   0.0s\n",
      "[CV 3/5] END ........C=1, gamma=0.3, kernel=rbf;, score=0.900 total time=   0.0s\n",
      "[CV 4/5] END ........C=1, gamma=0.3, kernel=rbf;, score=1.000 total time=   0.0s\n",
      "[CV 5/5] END ........C=1, gamma=0.3, kernel=rbf;, score=0.950 total time=   0.0s\n",
      "[CV 1/5] END ....C=1, gamma=0.3, kernel=sigmoid;, score=0.850 total time=   0.0s\n",
      "[CV 2/5] END ....C=1, gamma=0.3, kernel=sigmoid;, score=0.850 total time=   0.0s\n",
      "[CV 3/5] END ....C=1, gamma=0.3, kernel=sigmoid;, score=0.750 total time=   0.0s\n",
      "[CV 4/5] END ....C=1, gamma=0.3, kernel=sigmoid;, score=0.900 total time=   0.0s\n",
      "[CV 5/5] END ....C=1, gamma=0.3, kernel=sigmoid;, score=0.850 total time=   0.0s\n",
      "[CV 1/5] END .....C=2, gamma=0.1, kernel=linear;, score=1.000 total time=   0.0s\n",
      "[CV 2/5] END .....C=2, gamma=0.1, kernel=linear;, score=0.800 total time=   0.0s\n",
      "[CV 3/5] END .....C=2, gamma=0.1, kernel=linear;, score=0.900 total time=   0.0s\n",
      "[CV 4/5] END .....C=2, gamma=0.1, kernel=linear;, score=1.000 total time=   0.0s\n",
      "[CV 5/5] END .....C=2, gamma=0.1, kernel=linear;, score=0.950 total time=   0.0s\n",
      "[CV 1/5] END .......C=2, gamma=0.1, kernel=poly;, score=0.800 total time=   0.0s\n",
      "[CV 2/5] END .......C=2, gamma=0.1, kernel=poly;, score=0.800 total time=   0.0s\n",
      "[CV 3/5] END .......C=2, gamma=0.1, kernel=poly;, score=0.900 total time=   0.0s\n",
      "[CV 4/5] END .......C=2, gamma=0.1, kernel=poly;, score=0.900 total time=   0.0s\n",
      "[CV 5/5] END .......C=2, gamma=0.1, kernel=poly;, score=0.700 total time=   0.0s\n",
      "[CV 1/5] END ........C=2, gamma=0.1, kernel=rbf;, score=1.000 total time=   0.0s\n",
      "[CV 2/5] END ........C=2, gamma=0.1, kernel=rbf;, score=0.800 total time=   0.0s\n",
      "[CV 3/5] END ........C=2, gamma=0.1, kernel=rbf;, score=0.900 total time=   0.0s\n",
      "[CV 4/5] END ........C=2, gamma=0.1, kernel=rbf;, score=1.000 total time=   0.0s\n",
      "[CV 5/5] END ........C=2, gamma=0.1, kernel=rbf;, score=0.950 total time=   0.0s\n",
      "[CV 1/5] END ....C=2, gamma=0.1, kernel=sigmoid;, score=1.000 total time=   0.0s\n",
      "[CV 2/5] END ....C=2, gamma=0.1, kernel=sigmoid;, score=0.850 total time=   0.0s\n",
      "[CV 3/5] END ....C=2, gamma=0.1, kernel=sigmoid;, score=0.900 total time=   0.0s\n",
      "[CV 4/5] END ....C=2, gamma=0.1, kernel=sigmoid;, score=1.000 total time=   0.0s\n",
      "[CV 5/5] END ....C=2, gamma=0.1, kernel=sigmoid;, score=0.950 total time=   0.0s\n",
      "[CV 1/5] END ...C=2, gamma=0.001, kernel=linear;, score=1.000 total time=   0.0s\n",
      "[CV 2/5] END ...C=2, gamma=0.001, kernel=linear;, score=0.800 total time=   0.0s\n",
      "[CV 3/5] END ...C=2, gamma=0.001, kernel=linear;, score=0.900 total time=   0.0s\n",
      "[CV 4/5] END ...C=2, gamma=0.001, kernel=linear;, score=1.000 total time=   0.0s\n",
      "[CV 5/5] END ...C=2, gamma=0.001, kernel=linear;, score=0.950 total time=   0.0s\n",
      "[CV 1/5] END .....C=2, gamma=0.001, kernel=poly;, score=0.350 total time=   0.0s\n",
      "[CV 2/5] END .....C=2, gamma=0.001, kernel=poly;, score=0.350 total time=   0.0s\n",
      "[CV 3/5] END .....C=2, gamma=0.001, kernel=poly;, score=0.350 total time=   0.0s\n",
      "[CV 4/5] END .....C=2, gamma=0.001, kernel=poly;, score=0.350 total time=   0.0s\n",
      "[CV 5/5] END .....C=2, gamma=0.001, kernel=poly;, score=0.350 total time=   0.0s\n",
      "[CV 1/5] END ......C=2, gamma=0.001, kernel=rbf;, score=0.500 total time=   0.0s\n",
      "[CV 2/5] END ......C=2, gamma=0.001, kernel=rbf;, score=0.400 total time=   0.0s\n",
      "[CV 3/5] END ......C=2, gamma=0.001, kernel=rbf;, score=0.350 total time=   0.0s\n",
      "[CV 4/5] END ......C=2, gamma=0.001, kernel=rbf;, score=0.400 total time=   0.0s\n",
      "[CV 5/5] END ......C=2, gamma=0.001, kernel=rbf;, score=0.500 total time=   0.0s\n",
      "[CV 1/5] END ..C=2, gamma=0.001, kernel=sigmoid;, score=0.350 total time=   0.0s\n",
      "[CV 2/5] END ..C=2, gamma=0.001, kernel=sigmoid;, score=0.350 total time=   0.0s\n",
      "[CV 3/5] END ..C=2, gamma=0.001, kernel=sigmoid;, score=0.350 total time=   0.0s\n",
      "[CV 4/5] END ..C=2, gamma=0.001, kernel=sigmoid;, score=0.350 total time=   0.0s\n",
      "[CV 5/5] END ..C=2, gamma=0.001, kernel=sigmoid;, score=0.450 total time=   0.0s\n",
      "[CV 1/5] END ..C=2, gamma=0.0001, kernel=linear;, score=1.000 total time=   0.0s\n",
      "[CV 2/5] END ..C=2, gamma=0.0001, kernel=linear;, score=0.800 total time=   0.0s\n",
      "[CV 3/5] END ..C=2, gamma=0.0001, kernel=linear;, score=0.900 total time=   0.0s\n",
      "[CV 4/5] END ..C=2, gamma=0.0001, kernel=linear;, score=1.000 total time=   0.0s\n",
      "[CV 5/5] END ..C=2, gamma=0.0001, kernel=linear;, score=0.950 total time=   0.0s\n",
      "[CV 1/5] END ....C=2, gamma=0.0001, kernel=poly;, score=0.350 total time=   0.0s\n",
      "[CV 2/5] END ....C=2, gamma=0.0001, kernel=poly;, score=0.350 total time=   0.0s\n",
      "[CV 3/5] END ....C=2, gamma=0.0001, kernel=poly;, score=0.350 total time=   0.0s\n",
      "[CV 4/5] END ....C=2, gamma=0.0001, kernel=poly;, score=0.350 total time=   0.0s\n",
      "[CV 5/5] END ....C=2, gamma=0.0001, kernel=poly;, score=0.350 total time=   0.0s\n",
      "[CV 1/5] END .....C=2, gamma=0.0001, kernel=rbf;, score=0.350 total time=   0.0s\n",
      "[CV 2/5] END .....C=2, gamma=0.0001, kernel=rbf;, score=0.350 total time=   0.0s\n",
      "[CV 3/5] END .....C=2, gamma=0.0001, kernel=rbf;, score=0.350 total time=   0.0s\n",
      "[CV 4/5] END .....C=2, gamma=0.0001, kernel=rbf;, score=0.350 total time=   0.0s\n",
      "[CV 5/5] END .....C=2, gamma=0.0001, kernel=rbf;, score=0.450 total time=   0.0s\n",
      "[CV 1/5] END .C=2, gamma=0.0001, kernel=sigmoid;, score=0.350 total time=   0.0s\n",
      "[CV 2/5] END .C=2, gamma=0.0001, kernel=sigmoid;, score=0.350 total time=   0.0s\n",
      "[CV 3/5] END .C=2, gamma=0.0001, kernel=sigmoid;, score=0.350 total time=   0.0s\n",
      "[CV 4/5] END .C=2, gamma=0.0001, kernel=sigmoid;, score=0.350 total time=   0.0s\n",
      "[CV 5/5] END .C=2, gamma=0.0001, kernel=sigmoid;, score=0.450 total time=   0.0s\n",
      "[CV 1/5] END ......C=2, gamma=10, kernel=linear;, score=1.000 total time=   0.0s\n",
      "[CV 2/5] END ......C=2, gamma=10, kernel=linear;, score=0.800 total time=   0.0s\n",
      "[CV 3/5] END ......C=2, gamma=10, kernel=linear;, score=0.900 total time=   0.0s\n",
      "[CV 4/5] END ......C=2, gamma=10, kernel=linear;, score=1.000 total time=   0.0s\n",
      "[CV 5/5] END ......C=2, gamma=10, kernel=linear;, score=0.950 total time=   0.0s\n",
      "[CV 1/5] END ........C=2, gamma=10, kernel=poly;, score=0.900 total time=   0.0s\n",
      "[CV 2/5] END ........C=2, gamma=10, kernel=poly;, score=0.800 total time=   0.0s\n",
      "[CV 3/5] END ........C=2, gamma=10, kernel=poly;, score=0.950 total time=   0.0s\n",
      "[CV 4/5] END ........C=2, gamma=10, kernel=poly;, score=0.950 total time=   0.0s\n",
      "[CV 5/5] END ........C=2, gamma=10, kernel=poly;, score=0.950 total time=   0.0s\n",
      "[CV 1/5] END .........C=2, gamma=10, kernel=rbf;, score=0.900 total time=   0.0s\n",
      "[CV 2/5] END .........C=2, gamma=10, kernel=rbf;, score=0.700 total time=   0.0s\n",
      "[CV 3/5] END .........C=2, gamma=10, kernel=rbf;, score=0.900 total time=   0.0s\n",
      "[CV 4/5] END .........C=2, gamma=10, kernel=rbf;, score=1.000 total time=   0.0s\n",
      "[CV 5/5] END .........C=2, gamma=10, kernel=rbf;, score=0.850 total time=   0.0s\n",
      "[CV 1/5] END .....C=2, gamma=10, kernel=sigmoid;, score=0.450 total time=   0.0s\n",
      "[CV 2/5] END .....C=2, gamma=10, kernel=sigmoid;, score=0.550 total time=   0.0s\n",
      "[CV 3/5] END .....C=2, gamma=10, kernel=sigmoid;, score=0.800 total time=   0.0s\n",
      "[CV 4/5] END .....C=2, gamma=10, kernel=sigmoid;, score=0.600 total time=   0.0s\n",
      "[CV 5/5] END .....C=2, gamma=10, kernel=sigmoid;, score=0.600 total time=   0.0s\n",
      "[CV 1/5] END .....C=2, gamma=0.3, kernel=linear;, score=1.000 total time=   0.0s\n",
      "[CV 2/5] END .....C=2, gamma=0.3, kernel=linear;, score=0.800 total time=   0.0s\n",
      "[CV 3/5] END .....C=2, gamma=0.3, kernel=linear;, score=0.900 total time=   0.0s\n",
      "[CV 4/5] END .....C=2, gamma=0.3, kernel=linear;, score=1.000 total time=   0.0s\n",
      "[CV 5/5] END .....C=2, gamma=0.3, kernel=linear;, score=0.950 total time=   0.0s\n",
      "[CV 1/5] END .......C=2, gamma=0.3, kernel=poly;, score=0.950 total time=   0.0s\n",
      "[CV 2/5] END .......C=2, gamma=0.3, kernel=poly;, score=0.900 total time=   0.0s\n",
      "[CV 3/5] END .......C=2, gamma=0.3, kernel=poly;, score=0.900 total time=   0.0s\n",
      "[CV 4/5] END .......C=2, gamma=0.3, kernel=poly;, score=1.000 total time=   0.0s\n",
      "[CV 5/5] END .......C=2, gamma=0.3, kernel=poly;, score=0.850 total time=   0.0s\n",
      "[CV 1/5] END ........C=2, gamma=0.3, kernel=rbf;, score=1.000 total time=   0.0s\n",
      "[CV 2/5] END ........C=2, gamma=0.3, kernel=rbf;, score=0.800 total time=   0.0s\n",
      "[CV 3/5] END ........C=2, gamma=0.3, kernel=rbf;, score=0.900 total time=   0.0s\n",
      "[CV 4/5] END ........C=2, gamma=0.3, kernel=rbf;, score=1.000 total time=   0.0s\n",
      "[CV 5/5] END ........C=2, gamma=0.3, kernel=rbf;, score=0.950 total time=   0.0s\n",
      "[CV 1/5] END ....C=2, gamma=0.3, kernel=sigmoid;, score=0.850 total time=   0.0s\n",
      "[CV 2/5] END ....C=2, gamma=0.3, kernel=sigmoid;, score=0.800 total time=   0.0s\n",
      "[CV 3/5] END ....C=2, gamma=0.3, kernel=sigmoid;, score=0.750 total time=   0.0s\n",
      "[CV 4/5] END ....C=2, gamma=0.3, kernel=sigmoid;, score=0.950 total time=   0.0s\n",
      "[CV 5/5] END ....C=2, gamma=0.3, kernel=sigmoid;, score=0.850 total time=   0.0s\n",
      "[CV 1/5] END ....C=10, gamma=0.1, kernel=linear;, score=0.950 total time=   0.0s\n",
      "[CV 2/5] END ....C=10, gamma=0.1, kernel=linear;, score=0.800 total time=   0.0s\n",
      "[CV 3/5] END ....C=10, gamma=0.1, kernel=linear;, score=0.900 total time=   0.0s\n",
      "[CV 4/5] END ....C=10, gamma=0.1, kernel=linear;, score=1.000 total time=   0.0s\n",
      "[CV 5/5] END ....C=10, gamma=0.1, kernel=linear;, score=1.000 total time=   0.0s\n",
      "[CV 1/5] END ......C=10, gamma=0.1, kernel=poly;, score=0.800 total time=   0.0s\n",
      "[CV 2/5] END ......C=10, gamma=0.1, kernel=poly;, score=0.850 total time=   0.0s\n",
      "[CV 3/5] END ......C=10, gamma=0.1, kernel=poly;, score=0.950 total time=   0.0s\n",
      "[CV 4/5] END ......C=10, gamma=0.1, kernel=poly;, score=1.000 total time=   0.0s\n",
      "[CV 5/5] END ......C=10, gamma=0.1, kernel=poly;, score=0.750 total time=   0.0s\n",
      "[CV 1/5] END .......C=10, gamma=0.1, kernel=rbf;, score=0.950 total time=   0.0s\n",
      "[CV 2/5] END .......C=10, gamma=0.1, kernel=rbf;, score=0.800 total time=   0.0s\n",
      "[CV 3/5] END .......C=10, gamma=0.1, kernel=rbf;, score=0.900 total time=   0.0s\n",
      "[CV 4/5] END .......C=10, gamma=0.1, kernel=rbf;, score=1.000 total time=   0.0s\n",
      "[CV 5/5] END .......C=10, gamma=0.1, kernel=rbf;, score=0.950 total time=   0.0s\n",
      "[CV 1/5] END ...C=10, gamma=0.1, kernel=sigmoid;, score=1.000 total time=   0.0s\n",
      "[CV 2/5] END ...C=10, gamma=0.1, kernel=sigmoid;, score=0.800 total time=   0.0s\n",
      "[CV 3/5] END ...C=10, gamma=0.1, kernel=sigmoid;, score=0.900 total time=   0.0s\n",
      "[CV 4/5] END ...C=10, gamma=0.1, kernel=sigmoid;, score=1.000 total time=   0.0s\n",
      "[CV 5/5] END ...C=10, gamma=0.1, kernel=sigmoid;, score=0.950 total time=   0.0s\n",
      "[CV 1/5] END ..C=10, gamma=0.001, kernel=linear;, score=0.950 total time=   0.0s\n",
      "[CV 2/5] END ..C=10, gamma=0.001, kernel=linear;, score=0.800 total time=   0.0s\n",
      "[CV 3/5] END ..C=10, gamma=0.001, kernel=linear;, score=0.900 total time=   0.0s\n",
      "[CV 4/5] END ..C=10, gamma=0.001, kernel=linear;, score=1.000 total time=   0.0s\n",
      "[CV 5/5] END ..C=10, gamma=0.001, kernel=linear;, score=1.000 total time=   0.0s\n",
      "[CV 1/5] END ....C=10, gamma=0.001, kernel=poly;, score=0.350 total time=   0.0s\n",
      "[CV 2/5] END ....C=10, gamma=0.001, kernel=poly;, score=0.350 total time=   0.0s\n",
      "[CV 3/5] END ....C=10, gamma=0.001, kernel=poly;, score=0.350 total time=   0.0s\n",
      "[CV 4/5] END ....C=10, gamma=0.001, kernel=poly;, score=0.350 total time=   0.0s\n",
      "[CV 5/5] END ....C=10, gamma=0.001, kernel=poly;, score=0.350 total time=   0.0s\n",
      "[CV 1/5] END .....C=10, gamma=0.001, kernel=rbf;, score=0.900 total time=   0.0s\n",
      "[CV 2/5] END .....C=10, gamma=0.001, kernel=rbf;, score=0.800 total time=   0.0s\n",
      "[CV 3/5] END .....C=10, gamma=0.001, kernel=rbf;, score=0.900 total time=   0.0s\n",
      "[CV 4/5] END .....C=10, gamma=0.001, kernel=rbf;, score=1.000 total time=   0.0s\n",
      "[CV 5/5] END .....C=10, gamma=0.001, kernel=rbf;, score=0.850 total time=   0.0s\n",
      "[CV 1/5] END .C=10, gamma=0.001, kernel=sigmoid;, score=0.800 total time=   0.0s\n",
      "[CV 2/5] END .C=10, gamma=0.001, kernel=sigmoid;, score=0.850 total time=   0.0s\n",
      "[CV 3/5] END .C=10, gamma=0.001, kernel=sigmoid;, score=0.900 total time=   0.0s\n",
      "[CV 4/5] END .C=10, gamma=0.001, kernel=sigmoid;, score=1.000 total time=   0.0s\n",
      "[CV 5/5] END .C=10, gamma=0.001, kernel=sigmoid;, score=0.850 total time=   0.0s\n",
      "[CV 1/5] END .C=10, gamma=0.0001, kernel=linear;, score=0.950 total time=   0.0s\n",
      "[CV 2/5] END .C=10, gamma=0.0001, kernel=linear;, score=0.800 total time=   0.0s\n",
      "[CV 3/5] END .C=10, gamma=0.0001, kernel=linear;, score=0.900 total time=   0.0s\n",
      "[CV 4/5] END .C=10, gamma=0.0001, kernel=linear;, score=1.000 total time=   0.0s\n",
      "[CV 5/5] END .C=10, gamma=0.0001, kernel=linear;, score=1.000 total time=   0.0s\n",
      "[CV 1/5] END ...C=10, gamma=0.0001, kernel=poly;, score=0.350 total time=   0.0s\n",
      "[CV 2/5] END ...C=10, gamma=0.0001, kernel=poly;, score=0.350 total time=   0.0s\n",
      "[CV 3/5] END ...C=10, gamma=0.0001, kernel=poly;, score=0.350 total time=   0.0s\n",
      "[CV 4/5] END ...C=10, gamma=0.0001, kernel=poly;, score=0.350 total time=   0.0s\n",
      "[CV 5/5] END ...C=10, gamma=0.0001, kernel=poly;, score=0.350 total time=   0.0s\n",
      "[CV 1/5] END ....C=10, gamma=0.0001, kernel=rbf;, score=0.350 total time=   0.0s\n",
      "[CV 2/5] END ....C=10, gamma=0.0001, kernel=rbf;, score=0.350 total time=   0.0s\n",
      "[CV 3/5] END ....C=10, gamma=0.0001, kernel=rbf;, score=0.350 total time=   0.0s\n",
      "[CV 4/5] END ....C=10, gamma=0.0001, kernel=rbf;, score=0.350 total time=   0.0s\n",
      "[CV 5/5] END ....C=10, gamma=0.0001, kernel=rbf;, score=0.450 total time=   0.0s\n",
      "[CV 1/5] END C=10, gamma=0.0001, kernel=sigmoid;, score=0.350 total time=   0.0s\n",
      "[CV 2/5] END C=10, gamma=0.0001, kernel=sigmoid;, score=0.350 total time=   0.0s\n",
      "[CV 3/5] END C=10, gamma=0.0001, kernel=sigmoid;, score=0.350 total time=   0.0s\n",
      "[CV 4/5] END C=10, gamma=0.0001, kernel=sigmoid;, score=0.350 total time=   0.0s\n",
      "[CV 5/5] END C=10, gamma=0.0001, kernel=sigmoid;, score=0.450 total time=   0.0s\n",
      "[CV 1/5] END .....C=10, gamma=10, kernel=linear;, score=0.950 total time=   0.0s\n",
      "[CV 2/5] END .....C=10, gamma=10, kernel=linear;, score=0.800 total time=   0.0s\n",
      "[CV 3/5] END .....C=10, gamma=10, kernel=linear;, score=0.900 total time=   0.0s\n",
      "[CV 4/5] END .....C=10, gamma=10, kernel=linear;, score=1.000 total time=   0.0s\n",
      "[CV 5/5] END .....C=10, gamma=10, kernel=linear;, score=1.000 total time=   0.0s\n",
      "[CV 1/5] END .......C=10, gamma=10, kernel=poly;, score=0.900 total time=   0.0s\n",
      "[CV 2/5] END .......C=10, gamma=10, kernel=poly;, score=0.800 total time=   0.0s\n",
      "[CV 3/5] END .......C=10, gamma=10, kernel=poly;, score=0.950 total time=   0.0s\n",
      "[CV 4/5] END .......C=10, gamma=10, kernel=poly;, score=0.950 total time=   0.0s\n",
      "[CV 5/5] END .......C=10, gamma=10, kernel=poly;, score=0.950 total time=   0.0s\n",
      "[CV 1/5] END ........C=10, gamma=10, kernel=rbf;, score=0.900 total time=   0.0s\n",
      "[CV 2/5] END ........C=10, gamma=10, kernel=rbf;, score=0.700 total time=   0.0s\n",
      "[CV 3/5] END ........C=10, gamma=10, kernel=rbf;, score=0.900 total time=   0.0s\n",
      "[CV 4/5] END ........C=10, gamma=10, kernel=rbf;, score=1.000 total time=   0.0s\n",
      "[CV 5/5] END ........C=10, gamma=10, kernel=rbf;, score=0.850 total time=   0.0s\n",
      "[CV 1/5] END ....C=10, gamma=10, kernel=sigmoid;, score=0.450 total time=   0.0s\n",
      "[CV 2/5] END ....C=10, gamma=10, kernel=sigmoid;, score=0.500 total time=   0.0s\n",
      "[CV 3/5] END ....C=10, gamma=10, kernel=sigmoid;, score=0.800 total time=   0.0s\n",
      "[CV 4/5] END ....C=10, gamma=10, kernel=sigmoid;, score=0.600 total time=   0.0s\n",
      "[CV 5/5] END ....C=10, gamma=10, kernel=sigmoid;, score=0.600 total time=   0.0s\n",
      "[CV 1/5] END ....C=10, gamma=0.3, kernel=linear;, score=0.950 total time=   0.0s\n",
      "[CV 2/5] END ....C=10, gamma=0.3, kernel=linear;, score=0.800 total time=   0.0s\n",
      "[CV 3/5] END ....C=10, gamma=0.3, kernel=linear;, score=0.900 total time=   0.0s\n",
      "[CV 4/5] END ....C=10, gamma=0.3, kernel=linear;, score=1.000 total time=   0.0s\n",
      "[CV 5/5] END ....C=10, gamma=0.3, kernel=linear;, score=1.000 total time=   0.0s\n",
      "[CV 1/5] END ......C=10, gamma=0.3, kernel=poly;, score=0.950 total time=   0.0s\n",
      "[CV 2/5] END ......C=10, gamma=0.3, kernel=poly;, score=0.850 total time=   0.0s\n",
      "[CV 3/5] END ......C=10, gamma=0.3, kernel=poly;, score=0.900 total time=   0.0s\n",
      "[CV 4/5] END ......C=10, gamma=0.3, kernel=poly;, score=0.950 total time=   0.0s\n",
      "[CV 5/5] END ......C=10, gamma=0.3, kernel=poly;, score=0.900 total time=   0.0s\n",
      "[CV 1/5] END .......C=10, gamma=0.3, kernel=rbf;, score=0.950 total time=   0.0s\n",
      "[CV 2/5] END .......C=10, gamma=0.3, kernel=rbf;, score=0.800 total time=   0.0s\n",
      "[CV 3/5] END .......C=10, gamma=0.3, kernel=rbf;, score=0.900 total time=   0.0s\n",
      "[CV 4/5] END .......C=10, gamma=0.3, kernel=rbf;, score=1.000 total time=   0.0s\n",
      "[CV 5/5] END .......C=10, gamma=0.3, kernel=rbf;, score=1.000 total time=   0.0s\n",
      "[CV 1/5] END ...C=10, gamma=0.3, kernel=sigmoid;, score=0.850 total time=   0.0s\n",
      "[CV 2/5] END ...C=10, gamma=0.3, kernel=sigmoid;, score=0.800 total time=   0.0s\n",
      "[CV 3/5] END ...C=10, gamma=0.3, kernel=sigmoid;, score=0.750 total time=   0.0s\n",
      "[CV 4/5] END ...C=10, gamma=0.3, kernel=sigmoid;, score=0.850 total time=   0.0s\n",
      "[CV 5/5] END ...C=10, gamma=0.3, kernel=sigmoid;, score=0.800 total time=   0.0s\n",
      "[CV 1/5] END ....C=20, gamma=0.1, kernel=linear;, score=0.950 total time=   0.0s\n",
      "[CV 2/5] END ....C=20, gamma=0.1, kernel=linear;, score=0.850 total time=   0.0s\n",
      "[CV 3/5] END ....C=20, gamma=0.1, kernel=linear;, score=0.900 total time=   0.0s\n",
      "[CV 4/5] END ....C=20, gamma=0.1, kernel=linear;, score=0.950 total time=   0.0s\n",
      "[CV 5/5] END ....C=20, gamma=0.1, kernel=linear;, score=1.000 total time=   0.0s\n",
      "[CV 1/5] END ......C=20, gamma=0.1, kernel=poly;, score=0.850 total time=   0.0s\n",
      "[CV 2/5] END ......C=20, gamma=0.1, kernel=poly;, score=0.900 total time=   0.0s\n",
      "[CV 3/5] END ......C=20, gamma=0.1, kernel=poly;, score=0.950 total time=   0.0s\n",
      "[CV 4/5] END ......C=20, gamma=0.1, kernel=poly;, score=1.000 total time=   0.0s\n",
      "[CV 5/5] END ......C=20, gamma=0.1, kernel=poly;, score=0.850 total time=   0.0s\n",
      "[CV 1/5] END .......C=20, gamma=0.1, kernel=rbf;, score=0.950 total time=   0.0s\n",
      "[CV 2/5] END .......C=20, gamma=0.1, kernel=rbf;, score=0.800 total time=   0.0s\n",
      "[CV 3/5] END .......C=20, gamma=0.1, kernel=rbf;, score=0.900 total time=   0.0s\n",
      "[CV 4/5] END .......C=20, gamma=0.1, kernel=rbf;, score=1.000 total time=   0.0s\n",
      "[CV 5/5] END .......C=20, gamma=0.1, kernel=rbf;, score=1.000 total time=   0.0s\n",
      "[CV 1/5] END ...C=20, gamma=0.1, kernel=sigmoid;, score=0.950 total time=   0.0s\n",
      "[CV 2/5] END ...C=20, gamma=0.1, kernel=sigmoid;, score=0.800 total time=   0.0s\n",
      "[CV 3/5] END ...C=20, gamma=0.1, kernel=sigmoid;, score=0.900 total time=   0.0s\n",
      "[CV 4/5] END ...C=20, gamma=0.1, kernel=sigmoid;, score=1.000 total time=   0.0s\n",
      "[CV 5/5] END ...C=20, gamma=0.1, kernel=sigmoid;, score=0.950 total time=   0.0s\n",
      "[CV 1/5] END ..C=20, gamma=0.001, kernel=linear;, score=0.950 total time=   0.0s\n",
      "[CV 2/5] END ..C=20, gamma=0.001, kernel=linear;, score=0.850 total time=   0.0s\n",
      "[CV 3/5] END ..C=20, gamma=0.001, kernel=linear;, score=0.900 total time=   0.0s\n",
      "[CV 4/5] END ..C=20, gamma=0.001, kernel=linear;, score=0.950 total time=   0.0s\n",
      "[CV 5/5] END ..C=20, gamma=0.001, kernel=linear;, score=1.000 total time=   0.0s\n",
      "[CV 1/5] END ....C=20, gamma=0.001, kernel=poly;, score=0.350 total time=   0.0s\n",
      "[CV 2/5] END ....C=20, gamma=0.001, kernel=poly;, score=0.350 total time=   0.0s\n",
      "[CV 3/5] END ....C=20, gamma=0.001, kernel=poly;, score=0.350 total time=   0.0s\n",
      "[CV 4/5] END ....C=20, gamma=0.001, kernel=poly;, score=0.350 total time=   0.0s\n",
      "[CV 5/5] END ....C=20, gamma=0.001, kernel=poly;, score=0.350 total time=   0.0s\n",
      "[CV 1/5] END .....C=20, gamma=0.001, kernel=rbf;, score=0.900 total time=   0.0s\n",
      "[CV 2/5] END .....C=20, gamma=0.001, kernel=rbf;, score=0.800 total time=   0.0s\n",
      "[CV 3/5] END .....C=20, gamma=0.001, kernel=rbf;, score=0.950 total time=   0.0s\n",
      "[CV 4/5] END .....C=20, gamma=0.001, kernel=rbf;, score=1.000 total time=   0.0s\n",
      "[CV 5/5] END .....C=20, gamma=0.001, kernel=rbf;, score=0.800 total time=   0.0s\n",
      "[CV 1/5] END .C=20, gamma=0.001, kernel=sigmoid;, score=0.900 total time=   0.0s\n",
      "[CV 2/5] END .C=20, gamma=0.001, kernel=sigmoid;, score=0.800 total time=   0.0s\n",
      "[CV 3/5] END .C=20, gamma=0.001, kernel=sigmoid;, score=0.900 total time=   0.0s\n",
      "[CV 4/5] END .C=20, gamma=0.001, kernel=sigmoid;, score=1.000 total time=   0.0s\n",
      "[CV 5/5] END .C=20, gamma=0.001, kernel=sigmoid;, score=0.850 total time=   0.0s\n",
      "[CV 1/5] END .C=20, gamma=0.0001, kernel=linear;, score=0.950 total time=   0.0s\n",
      "[CV 2/5] END .C=20, gamma=0.0001, kernel=linear;, score=0.850 total time=   0.0s\n",
      "[CV 3/5] END .C=20, gamma=0.0001, kernel=linear;, score=0.900 total time=   0.0s\n",
      "[CV 4/5] END .C=20, gamma=0.0001, kernel=linear;, score=0.950 total time=   0.0s\n",
      "[CV 5/5] END .C=20, gamma=0.0001, kernel=linear;, score=1.000 total time=   0.0s\n",
      "[CV 1/5] END ...C=20, gamma=0.0001, kernel=poly;, score=0.350 total time=   0.0s\n",
      "[CV 2/5] END ...C=20, gamma=0.0001, kernel=poly;, score=0.350 total time=   0.0s\n",
      "[CV 3/5] END ...C=20, gamma=0.0001, kernel=poly;, score=0.350 total time=   0.0s\n",
      "[CV 4/5] END ...C=20, gamma=0.0001, kernel=poly;, score=0.350 total time=   0.0s\n",
      "[CV 5/5] END ...C=20, gamma=0.0001, kernel=poly;, score=0.350 total time=   0.0s\n",
      "[CV 1/5] END ....C=20, gamma=0.0001, kernel=rbf;, score=0.500 total time=   0.0s\n",
      "[CV 2/5] END ....C=20, gamma=0.0001, kernel=rbf;, score=0.400 total time=   0.0s\n",
      "[CV 3/5] END ....C=20, gamma=0.0001, kernel=rbf;, score=0.350 total time=   0.0s\n",
      "[CV 4/5] END ....C=20, gamma=0.0001, kernel=rbf;, score=0.400 total time=   0.0s\n",
      "[CV 5/5] END ....C=20, gamma=0.0001, kernel=rbf;, score=0.500 total time=   0.0s\n",
      "[CV 1/5] END C=20, gamma=0.0001, kernel=sigmoid;, score=0.350 total time=   0.0s\n",
      "[CV 2/5] END C=20, gamma=0.0001, kernel=sigmoid;, score=0.350 total time=   0.0s\n",
      "[CV 3/5] END C=20, gamma=0.0001, kernel=sigmoid;, score=0.350 total time=   0.0s\n",
      "[CV 4/5] END C=20, gamma=0.0001, kernel=sigmoid;, score=0.350 total time=   0.0s\n",
      "[CV 5/5] END C=20, gamma=0.0001, kernel=sigmoid;, score=0.450 total time=   0.0s\n",
      "[CV 1/5] END .....C=20, gamma=10, kernel=linear;, score=0.950 total time=   0.0s\n",
      "[CV 2/5] END .....C=20, gamma=10, kernel=linear;, score=0.850 total time=   0.0s\n",
      "[CV 3/5] END .....C=20, gamma=10, kernel=linear;, score=0.900 total time=   0.0s\n",
      "[CV 4/5] END .....C=20, gamma=10, kernel=linear;, score=0.950 total time=   0.0s\n",
      "[CV 5/5] END .....C=20, gamma=10, kernel=linear;, score=1.000 total time=   0.0s\n",
      "[CV 1/5] END .......C=20, gamma=10, kernel=poly;, score=0.900 total time=   0.0s\n",
      "[CV 2/5] END .......C=20, gamma=10, kernel=poly;, score=0.800 total time=   0.0s\n",
      "[CV 3/5] END .......C=20, gamma=10, kernel=poly;, score=0.950 total time=   0.0s\n",
      "[CV 4/5] END .......C=20, gamma=10, kernel=poly;, score=0.950 total time=   0.0s\n",
      "[CV 5/5] END .......C=20, gamma=10, kernel=poly;, score=0.950 total time=   0.0s\n",
      "[CV 1/5] END ........C=20, gamma=10, kernel=rbf;, score=0.900 total time=   0.0s\n",
      "[CV 2/5] END ........C=20, gamma=10, kernel=rbf;, score=0.700 total time=   0.0s\n",
      "[CV 3/5] END ........C=20, gamma=10, kernel=rbf;, score=0.900 total time=   0.0s\n",
      "[CV 4/5] END ........C=20, gamma=10, kernel=rbf;, score=1.000 total time=   0.0s\n",
      "[CV 5/5] END ........C=20, gamma=10, kernel=rbf;, score=0.850 total time=   0.0s\n",
      "[CV 1/5] END ....C=20, gamma=10, kernel=sigmoid;, score=0.450 total time=   0.0s\n",
      "[CV 2/5] END ....C=20, gamma=10, kernel=sigmoid;, score=0.500 total time=   0.0s\n",
      "[CV 3/5] END ....C=20, gamma=10, kernel=sigmoid;, score=0.750 total time=   0.0s\n",
      "[CV 4/5] END ....C=20, gamma=10, kernel=sigmoid;, score=0.650 total time=   0.0s\n",
      "[CV 5/5] END ....C=20, gamma=10, kernel=sigmoid;, score=0.600 total time=   0.0s\n",
      "[CV 1/5] END ....C=20, gamma=0.3, kernel=linear;, score=0.950 total time=   0.0s\n",
      "[CV 2/5] END ....C=20, gamma=0.3, kernel=linear;, score=0.850 total time=   0.0s\n",
      "[CV 3/5] END ....C=20, gamma=0.3, kernel=linear;, score=0.900 total time=   0.0s\n",
      "[CV 4/5] END ....C=20, gamma=0.3, kernel=linear;, score=0.950 total time=   0.0s\n",
      "[CV 5/5] END ....C=20, gamma=0.3, kernel=linear;, score=1.000 total time=   0.0s\n",
      "[CV 1/5] END ......C=20, gamma=0.3, kernel=poly;, score=0.950 total time=   0.0s\n",
      "[CV 2/5] END ......C=20, gamma=0.3, kernel=poly;, score=0.800 total time=   0.0s\n",
      "[CV 3/5] END ......C=20, gamma=0.3, kernel=poly;, score=0.900 total time=   0.0s\n",
      "[CV 4/5] END ......C=20, gamma=0.3, kernel=poly;, score=0.950 total time=   0.0s\n",
      "[CV 5/5] END ......C=20, gamma=0.3, kernel=poly;, score=0.900 total time=   0.0s\n",
      "[CV 1/5] END .......C=20, gamma=0.3, kernel=rbf;, score=0.950 total time=   0.0s\n",
      "[CV 2/5] END .......C=20, gamma=0.3, kernel=rbf;, score=0.800 total time=   0.0s\n",
      "[CV 3/5] END .......C=20, gamma=0.3, kernel=rbf;, score=0.900 total time=   0.0s\n",
      "[CV 4/5] END .......C=20, gamma=0.3, kernel=rbf;, score=0.950 total time=   0.0s\n",
      "[CV 5/5] END .......C=20, gamma=0.3, kernel=rbf;, score=1.000 total time=   0.0s\n",
      "[CV 1/5] END ...C=20, gamma=0.3, kernel=sigmoid;, score=0.900 total time=   0.0s\n",
      "[CV 2/5] END ...C=20, gamma=0.3, kernel=sigmoid;, score=0.800 total time=   0.0s\n",
      "[CV 3/5] END ...C=20, gamma=0.3, kernel=sigmoid;, score=0.750 total time=   0.0s\n",
      "[CV 4/5] END ...C=20, gamma=0.3, kernel=sigmoid;, score=0.800 total time=   0.0s\n",
      "[CV 5/5] END ...C=20, gamma=0.3, kernel=sigmoid;, score=0.850 total time=   0.0s\n",
      "[CV 1/5] END ....C=12, gamma=0.1, kernel=linear;, score=0.950 total time=   0.0s\n",
      "[CV 2/5] END ....C=12, gamma=0.1, kernel=linear;, score=0.800 total time=   0.0s\n",
      "[CV 3/5] END ....C=12, gamma=0.1, kernel=linear;, score=0.900 total time=   0.0s\n",
      "[CV 4/5] END ....C=12, gamma=0.1, kernel=linear;, score=1.000 total time=   0.0s\n",
      "[CV 5/5] END ....C=12, gamma=0.1, kernel=linear;, score=1.000 total time=   0.0s\n",
      "[CV 1/5] END ......C=12, gamma=0.1, kernel=poly;, score=0.800 total time=   0.0s\n",
      "[CV 2/5] END ......C=12, gamma=0.1, kernel=poly;, score=0.900 total time=   0.0s\n",
      "[CV 3/5] END ......C=12, gamma=0.1, kernel=poly;, score=0.950 total time=   0.0s\n",
      "[CV 4/5] END ......C=12, gamma=0.1, kernel=poly;, score=1.000 total time=   0.0s\n",
      "[CV 5/5] END ......C=12, gamma=0.1, kernel=poly;, score=0.750 total time=   0.0s\n",
      "[CV 1/5] END .......C=12, gamma=0.1, kernel=rbf;, score=0.950 total time=   0.0s\n",
      "[CV 2/5] END .......C=12, gamma=0.1, kernel=rbf;, score=0.800 total time=   0.0s\n",
      "[CV 3/5] END .......C=12, gamma=0.1, kernel=rbf;, score=0.900 total time=   0.0s\n",
      "[CV 4/5] END .......C=12, gamma=0.1, kernel=rbf;, score=1.000 total time=   0.0s\n",
      "[CV 5/5] END .......C=12, gamma=0.1, kernel=rbf;, score=0.950 total time=   0.0s\n",
      "[CV 1/5] END ...C=12, gamma=0.1, kernel=sigmoid;, score=1.000 total time=   0.0s\n",
      "[CV 2/5] END ...C=12, gamma=0.1, kernel=sigmoid;, score=0.800 total time=   0.0s\n",
      "[CV 3/5] END ...C=12, gamma=0.1, kernel=sigmoid;, score=0.900 total time=   0.0s\n",
      "[CV 4/5] END ...C=12, gamma=0.1, kernel=sigmoid;, score=1.000 total time=   0.0s\n",
      "[CV 5/5] END ...C=12, gamma=0.1, kernel=sigmoid;, score=0.950 total time=   0.0s\n",
      "[CV 1/5] END ..C=12, gamma=0.001, kernel=linear;, score=0.950 total time=   0.0s\n",
      "[CV 2/5] END ..C=12, gamma=0.001, kernel=linear;, score=0.800 total time=   0.0s\n",
      "[CV 3/5] END ..C=12, gamma=0.001, kernel=linear;, score=0.900 total time=   0.0s\n",
      "[CV 4/5] END ..C=12, gamma=0.001, kernel=linear;, score=1.000 total time=   0.0s\n",
      "[CV 5/5] END ..C=12, gamma=0.001, kernel=linear;, score=1.000 total time=   0.0s\n",
      "[CV 1/5] END ....C=12, gamma=0.001, kernel=poly;, score=0.350 total time=   0.0s\n",
      "[CV 2/5] END ....C=12, gamma=0.001, kernel=poly;, score=0.350 total time=   0.0s\n",
      "[CV 3/5] END ....C=12, gamma=0.001, kernel=poly;, score=0.350 total time=   0.0s\n",
      "[CV 4/5] END ....C=12, gamma=0.001, kernel=poly;, score=0.350 total time=   0.0s\n",
      "[CV 5/5] END ....C=12, gamma=0.001, kernel=poly;, score=0.350 total time=   0.0s\n",
      "[CV 1/5] END .....C=12, gamma=0.001, kernel=rbf;, score=0.900 total time=   0.0s\n",
      "[CV 2/5] END .....C=12, gamma=0.001, kernel=rbf;, score=0.850 total time=   0.0s\n",
      "[CV 3/5] END .....C=12, gamma=0.001, kernel=rbf;, score=0.900 total time=   0.0s\n",
      "[CV 4/5] END .....C=12, gamma=0.001, kernel=rbf;, score=1.000 total time=   0.0s\n",
      "[CV 5/5] END .....C=12, gamma=0.001, kernel=rbf;, score=0.850 total time=   0.0s\n",
      "[CV 1/5] END .C=12, gamma=0.001, kernel=sigmoid;, score=0.900 total time=   0.0s\n",
      "[CV 2/5] END .C=12, gamma=0.001, kernel=sigmoid;, score=0.850 total time=   0.0s\n",
      "[CV 3/5] END .C=12, gamma=0.001, kernel=sigmoid;, score=0.900 total time=   0.0s\n",
      "[CV 4/5] END .C=12, gamma=0.001, kernel=sigmoid;, score=1.000 total time=   0.0s\n",
      "[CV 5/5] END .C=12, gamma=0.001, kernel=sigmoid;, score=0.850 total time=   0.0s\n",
      "[CV 1/5] END .C=12, gamma=0.0001, kernel=linear;, score=0.950 total time=   0.0s\n",
      "[CV 2/5] END .C=12, gamma=0.0001, kernel=linear;, score=0.800 total time=   0.0s\n",
      "[CV 3/5] END .C=12, gamma=0.0001, kernel=linear;, score=0.900 total time=   0.0s\n",
      "[CV 4/5] END .C=12, gamma=0.0001, kernel=linear;, score=1.000 total time=   0.0s\n",
      "[CV 5/5] END .C=12, gamma=0.0001, kernel=linear;, score=1.000 total time=   0.0s\n",
      "[CV 1/5] END ...C=12, gamma=0.0001, kernel=poly;, score=0.350 total time=   0.0s\n",
      "[CV 2/5] END ...C=12, gamma=0.0001, kernel=poly;, score=0.350 total time=   0.0s\n",
      "[CV 3/5] END ...C=12, gamma=0.0001, kernel=poly;, score=0.350 total time=   0.0s\n",
      "[CV 4/5] END ...C=12, gamma=0.0001, kernel=poly;, score=0.350 total time=   0.0s\n",
      "[CV 5/5] END ...C=12, gamma=0.0001, kernel=poly;, score=0.350 total time=   0.0s\n",
      "[CV 1/5] END ....C=12, gamma=0.0001, kernel=rbf;, score=0.350 total time=   0.0s\n",
      "[CV 2/5] END ....C=12, gamma=0.0001, kernel=rbf;, score=0.350 total time=   0.0s\n",
      "[CV 3/5] END ....C=12, gamma=0.0001, kernel=rbf;, score=0.350 total time=   0.0s\n",
      "[CV 4/5] END ....C=12, gamma=0.0001, kernel=rbf;, score=0.350 total time=   0.0s\n",
      "[CV 5/5] END ....C=12, gamma=0.0001, kernel=rbf;, score=0.450 total time=   0.0s\n",
      "[CV 1/5] END C=12, gamma=0.0001, kernel=sigmoid;, score=0.350 total time=   0.0s\n",
      "[CV 2/5] END C=12, gamma=0.0001, kernel=sigmoid;, score=0.350 total time=   0.0s\n",
      "[CV 3/5] END C=12, gamma=0.0001, kernel=sigmoid;, score=0.350 total time=   0.0s\n",
      "[CV 4/5] END C=12, gamma=0.0001, kernel=sigmoid;, score=0.350 total time=   0.0s\n",
      "[CV 5/5] END C=12, gamma=0.0001, kernel=sigmoid;, score=0.450 total time=   0.0s\n",
      "[CV 1/5] END .....C=12, gamma=10, kernel=linear;, score=0.950 total time=   0.0s\n",
      "[CV 2/5] END .....C=12, gamma=10, kernel=linear;, score=0.800 total time=   0.0s\n",
      "[CV 3/5] END .....C=12, gamma=10, kernel=linear;, score=0.900 total time=   0.0s\n",
      "[CV 4/5] END .....C=12, gamma=10, kernel=linear;, score=1.000 total time=   0.0s\n",
      "[CV 5/5] END .....C=12, gamma=10, kernel=linear;, score=1.000 total time=   0.0s\n",
      "[CV 1/5] END .......C=12, gamma=10, kernel=poly;, score=0.900 total time=   0.0s\n",
      "[CV 2/5] END .......C=12, gamma=10, kernel=poly;, score=0.800 total time=   0.0s\n",
      "[CV 3/5] END .......C=12, gamma=10, kernel=poly;, score=0.950 total time=   0.0s\n",
      "[CV 4/5] END .......C=12, gamma=10, kernel=poly;, score=0.950 total time=   0.0s\n",
      "[CV 5/5] END .......C=12, gamma=10, kernel=poly;, score=0.950 total time=   0.0s\n",
      "[CV 1/5] END ........C=12, gamma=10, kernel=rbf;, score=0.900 total time=   0.0s\n",
      "[CV 2/5] END ........C=12, gamma=10, kernel=rbf;, score=0.700 total time=   0.0s\n",
      "[CV 3/5] END ........C=12, gamma=10, kernel=rbf;, score=0.900 total time=   0.0s\n",
      "[CV 4/5] END ........C=12, gamma=10, kernel=rbf;, score=1.000 total time=   0.0s\n",
      "[CV 5/5] END ........C=12, gamma=10, kernel=rbf;, score=0.850 total time=   0.0s\n",
      "[CV 1/5] END ....C=12, gamma=10, kernel=sigmoid;, score=0.450 total time=   0.0s\n",
      "[CV 2/5] END ....C=12, gamma=10, kernel=sigmoid;, score=0.500 total time=   0.0s\n",
      "[CV 3/5] END ....C=12, gamma=10, kernel=sigmoid;, score=0.800 total time=   0.0s\n",
      "[CV 4/5] END ....C=12, gamma=10, kernel=sigmoid;, score=0.650 total time=   0.0s\n",
      "[CV 5/5] END ....C=12, gamma=10, kernel=sigmoid;, score=0.600 total time=   0.0s\n",
      "[CV 1/5] END ....C=12, gamma=0.3, kernel=linear;, score=0.950 total time=   0.0s\n",
      "[CV 2/5] END ....C=12, gamma=0.3, kernel=linear;, score=0.800 total time=   0.0s\n",
      "[CV 3/5] END ....C=12, gamma=0.3, kernel=linear;, score=0.900 total time=   0.0s\n",
      "[CV 4/5] END ....C=12, gamma=0.3, kernel=linear;, score=1.000 total time=   0.0s\n",
      "[CV 5/5] END ....C=12, gamma=0.3, kernel=linear;, score=1.000 total time=   0.0s\n",
      "[CV 1/5] END ......C=12, gamma=0.3, kernel=poly;, score=0.950 total time=   0.0s\n",
      "[CV 2/5] END ......C=12, gamma=0.3, kernel=poly;, score=0.850 total time=   0.0s\n",
      "[CV 3/5] END ......C=12, gamma=0.3, kernel=poly;, score=0.900 total time=   0.0s\n",
      "[CV 4/5] END ......C=12, gamma=0.3, kernel=poly;, score=0.950 total time=   0.0s\n",
      "[CV 5/5] END ......C=12, gamma=0.3, kernel=poly;, score=0.900 total time=   0.0s\n",
      "[CV 1/5] END .......C=12, gamma=0.3, kernel=rbf;, score=0.950 total time=   0.0s\n",
      "[CV 2/5] END .......C=12, gamma=0.3, kernel=rbf;, score=0.800 total time=   0.0s\n",
      "[CV 3/5] END .......C=12, gamma=0.3, kernel=rbf;, score=0.900 total time=   0.0s\n",
      "[CV 4/5] END .......C=12, gamma=0.3, kernel=rbf;, score=1.000 total time=   0.0s\n",
      "[CV 5/5] END .......C=12, gamma=0.3, kernel=rbf;, score=1.000 total time=   0.0s\n",
      "[CV 1/5] END ...C=12, gamma=0.3, kernel=sigmoid;, score=0.850 total time=   0.0s\n",
      "[CV 2/5] END ...C=12, gamma=0.3, kernel=sigmoid;, score=0.800 total time=   0.0s\n",
      "[CV 3/5] END ...C=12, gamma=0.3, kernel=sigmoid;, score=0.750 total time=   0.0s\n",
      "[CV 4/5] END ...C=12, gamma=0.3, kernel=sigmoid;, score=0.850 total time=   0.0s\n",
      "[CV 5/5] END ...C=12, gamma=0.3, kernel=sigmoid;, score=0.850 total time=   0.0s\n"
     ]
    },
    {
     "data": {
      "text/html": [
       "<style>#sk-container-id-3 {color: black;background-color: white;}#sk-container-id-3 pre{padding: 0;}#sk-container-id-3 div.sk-toggleable {background-color: white;}#sk-container-id-3 label.sk-toggleable__label {cursor: pointer;display: block;width: 100%;margin-bottom: 0;padding: 0.3em;box-sizing: border-box;text-align: center;}#sk-container-id-3 label.sk-toggleable__label-arrow:before {content: \"▸\";float: left;margin-right: 0.25em;color: #696969;}#sk-container-id-3 label.sk-toggleable__label-arrow:hover:before {color: black;}#sk-container-id-3 div.sk-estimator:hover label.sk-toggleable__label-arrow:before {color: black;}#sk-container-id-3 div.sk-toggleable__content {max-height: 0;max-width: 0;overflow: hidden;text-align: left;background-color: #f0f8ff;}#sk-container-id-3 div.sk-toggleable__content pre {margin: 0.2em;color: black;border-radius: 0.25em;background-color: #f0f8ff;}#sk-container-id-3 input.sk-toggleable__control:checked~div.sk-toggleable__content {max-height: 200px;max-width: 100%;overflow: auto;}#sk-container-id-3 input.sk-toggleable__control:checked~label.sk-toggleable__label-arrow:before {content: \"▾\";}#sk-container-id-3 div.sk-estimator input.sk-toggleable__control:checked~label.sk-toggleable__label {background-color: #d4ebff;}#sk-container-id-3 div.sk-label input.sk-toggleable__control:checked~label.sk-toggleable__label {background-color: #d4ebff;}#sk-container-id-3 input.sk-hidden--visually {border: 0;clip: rect(1px 1px 1px 1px);clip: rect(1px, 1px, 1px, 1px);height: 1px;margin: -1px;overflow: hidden;padding: 0;position: absolute;width: 1px;}#sk-container-id-3 div.sk-estimator {font-family: monospace;background-color: #f0f8ff;border: 1px dotted black;border-radius: 0.25em;box-sizing: border-box;margin-bottom: 0.5em;}#sk-container-id-3 div.sk-estimator:hover {background-color: #d4ebff;}#sk-container-id-3 div.sk-parallel-item::after {content: \"\";width: 100%;border-bottom: 1px solid gray;flex-grow: 1;}#sk-container-id-3 div.sk-label:hover label.sk-toggleable__label {background-color: #d4ebff;}#sk-container-id-3 div.sk-serial::before {content: \"\";position: absolute;border-left: 1px solid gray;box-sizing: border-box;top: 0;bottom: 0;left: 50%;z-index: 0;}#sk-container-id-3 div.sk-serial {display: flex;flex-direction: column;align-items: center;background-color: white;padding-right: 0.2em;padding-left: 0.2em;position: relative;}#sk-container-id-3 div.sk-item {position: relative;z-index: 1;}#sk-container-id-3 div.sk-parallel {display: flex;align-items: stretch;justify-content: center;background-color: white;position: relative;}#sk-container-id-3 div.sk-item::before, #sk-container-id-3 div.sk-parallel-item::before {content: \"\";position: absolute;border-left: 1px solid gray;box-sizing: border-box;top: 0;bottom: 0;left: 50%;z-index: -1;}#sk-container-id-3 div.sk-parallel-item {display: flex;flex-direction: column;z-index: 1;position: relative;background-color: white;}#sk-container-id-3 div.sk-parallel-item:first-child::after {align-self: flex-end;width: 50%;}#sk-container-id-3 div.sk-parallel-item:last-child::after {align-self: flex-start;width: 50%;}#sk-container-id-3 div.sk-parallel-item:only-child::after {width: 0;}#sk-container-id-3 div.sk-dashed-wrapped {border: 1px dashed gray;margin: 0 0.4em 0.5em 0.4em;box-sizing: border-box;padding-bottom: 0.4em;background-color: white;}#sk-container-id-3 div.sk-label label {font-family: monospace;font-weight: bold;display: inline-block;line-height: 1.2em;}#sk-container-id-3 div.sk-label-container {text-align: center;}#sk-container-id-3 div.sk-container {/* jupyter's `normalize.less` sets `[hidden] { display: none; }` but bootstrap.min.css set `[hidden] { display: none !important; }` so we also need the `!important` here to be able to override the default hidden behavior on the sphinx rendered scikit-learn.org. See: https://github.com/scikit-learn/scikit-learn/issues/21755 */display: inline-block !important;position: relative;}#sk-container-id-3 div.sk-text-repr-fallback {display: none;}</style><div id=\"sk-container-id-3\" class=\"sk-top-container\"><div class=\"sk-text-repr-fallback\"><pre>GridSearchCV(cv=5, estimator=SVC(),\n",
       "             param_grid={&#x27;C&#x27;: [1, 2, 10, 20, 12],\n",
       "                         &#x27;gamma&#x27;: [0.1, 0.001, 0.0001, 10, 0.3],\n",
       "                         &#x27;kernel&#x27;: [&#x27;linear&#x27;, &#x27;poly&#x27;, &#x27;rbf&#x27;, &#x27;sigmoid&#x27;]},\n",
       "             verbose=3)</pre><b>In a Jupyter environment, please rerun this cell to show the HTML representation or trust the notebook. <br />On GitHub, the HTML representation is unable to render, please try loading this page with nbviewer.org.</b></div><div class=\"sk-container\" hidden><div class=\"sk-item sk-dashed-wrapped\"><div class=\"sk-label-container\"><div class=\"sk-label sk-toggleable\"><input class=\"sk-toggleable__control sk-hidden--visually\" id=\"sk-estimator-id-3\" type=\"checkbox\" ><label for=\"sk-estimator-id-3\" class=\"sk-toggleable__label sk-toggleable__label-arrow\">GridSearchCV</label><div class=\"sk-toggleable__content\"><pre>GridSearchCV(cv=5, estimator=SVC(),\n",
       "             param_grid={&#x27;C&#x27;: [1, 2, 10, 20, 12],\n",
       "                         &#x27;gamma&#x27;: [0.1, 0.001, 0.0001, 10, 0.3],\n",
       "                         &#x27;kernel&#x27;: [&#x27;linear&#x27;, &#x27;poly&#x27;, &#x27;rbf&#x27;, &#x27;sigmoid&#x27;]},\n",
       "             verbose=3)</pre></div></div></div><div class=\"sk-parallel\"><div class=\"sk-parallel-item\"><div class=\"sk-item\"><div class=\"sk-label-container\"><div class=\"sk-label sk-toggleable\"><input class=\"sk-toggleable__control sk-hidden--visually\" id=\"sk-estimator-id-4\" type=\"checkbox\" ><label for=\"sk-estimator-id-4\" class=\"sk-toggleable__label sk-toggleable__label-arrow\">estimator: SVC</label><div class=\"sk-toggleable__content\"><pre>SVC()</pre></div></div></div><div class=\"sk-serial\"><div class=\"sk-item\"><div class=\"sk-estimator sk-toggleable\"><input class=\"sk-toggleable__control sk-hidden--visually\" id=\"sk-estimator-id-5\" type=\"checkbox\" ><label for=\"sk-estimator-id-5\" class=\"sk-toggleable__label sk-toggleable__label-arrow\">SVC</label><div class=\"sk-toggleable__content\"><pre>SVC()</pre></div></div></div></div></div></div></div></div></div></div>"
      ],
      "text/plain": [
       "GridSearchCV(cv=5, estimator=SVC(),\n",
       "             param_grid={'C': [1, 2, 10, 20, 12],\n",
       "                         'gamma': [0.1, 0.001, 0.0001, 10, 0.3],\n",
       "                         'kernel': ['linear', 'poly', 'rbf', 'sigmoid']},\n",
       "             verbose=3)"
      ]
     },
     "execution_count": 31,
     "metadata": {},
     "output_type": "execute_result"
    }
   ],
   "source": [
    "parameters = {'C':[1 , 2 , 10 , 20 , 12],\n",
    "             'gamma':[0.1 , 0.001 , 0.0001 , 10 , 0.3],\n",
    "             'kernel':['linear' , 'poly' , 'rbf' , 'sigmoid'],\n",
    "             }\n",
    "\n",
    "from sklearn.model_selection import GridSearchCV\n",
    "\n",
    "grid_clf = GridSearchCV(SVC() , param_grid= parameters , cv = 5 , refit=True , verbose=3)\n",
    "\n",
    "grid_clf.fit(x_train_scaled , y_train)"
   ]
  },
  {
   "cell_type": "code",
   "execution_count": 34,
   "id": "043ab7a7-c685-4818-b461-ec5e65065c6f",
   "metadata": {},
   "outputs": [
    {
     "data": {
      "text/plain": [
       "array([1, 0, 2, 1, 1, 0, 1, 2, 1, 1, 2, 0, 0, 0, 0, 1, 2, 1, 1, 2, 0, 2,\n",
       "       0, 2, 2, 2, 2, 2, 0, 0, 0, 0, 1, 0, 0, 2, 1, 0, 0, 0, 2, 1, 1, 0,\n",
       "       0, 1, 1, 2, 1, 2])"
      ]
     },
     "execution_count": 34,
     "metadata": {},
     "output_type": "execute_result"
    }
   ],
   "source": [
    "y_pred1 = grid_clf.predict(x_test_scaled)\n",
    "y_pred1"
   ]
  },
  {
   "cell_type": "code",
   "execution_count": 35,
   "id": "16ef6f5a-4a4c-4625-a26f-d88e4e5b2a11",
   "metadata": {},
   "outputs": [
    {
     "name": "stdout",
     "output_type": "stream",
     "text": [
      "0.98\n"
     ]
    }
   ],
   "source": [
    "print(accuracy_score(y_test , y_pred1))"
   ]
  },
  {
   "cell_type": "code",
   "execution_count": 36,
   "id": "5bb738ea-9680-4591-94d9-4e376c7ebd6d",
   "metadata": {},
   "outputs": [
    {
     "data": {
      "text/plain": [
       "{'C': 1, 'gamma': 0.1, 'kernel': 'sigmoid'}"
      ]
     },
     "execution_count": 36,
     "metadata": {},
     "output_type": "execute_result"
    }
   ],
   "source": [
    "grid_clf.best_params_"
   ]
  },
  {
   "cell_type": "code",
   "execution_count": 43,
   "id": "09d60764-a778-44ff-9e83-f9bb5f70b1c2",
   "metadata": {},
   "outputs": [
    {
     "data": {
      "text/html": [
       "<style>#sk-container-id-6 {color: black;background-color: white;}#sk-container-id-6 pre{padding: 0;}#sk-container-id-6 div.sk-toggleable {background-color: white;}#sk-container-id-6 label.sk-toggleable__label {cursor: pointer;display: block;width: 100%;margin-bottom: 0;padding: 0.3em;box-sizing: border-box;text-align: center;}#sk-container-id-6 label.sk-toggleable__label-arrow:before {content: \"▸\";float: left;margin-right: 0.25em;color: #696969;}#sk-container-id-6 label.sk-toggleable__label-arrow:hover:before {color: black;}#sk-container-id-6 div.sk-estimator:hover label.sk-toggleable__label-arrow:before {color: black;}#sk-container-id-6 div.sk-toggleable__content {max-height: 0;max-width: 0;overflow: hidden;text-align: left;background-color: #f0f8ff;}#sk-container-id-6 div.sk-toggleable__content pre {margin: 0.2em;color: black;border-radius: 0.25em;background-color: #f0f8ff;}#sk-container-id-6 input.sk-toggleable__control:checked~div.sk-toggleable__content {max-height: 200px;max-width: 100%;overflow: auto;}#sk-container-id-6 input.sk-toggleable__control:checked~label.sk-toggleable__label-arrow:before {content: \"▾\";}#sk-container-id-6 div.sk-estimator input.sk-toggleable__control:checked~label.sk-toggleable__label {background-color: #d4ebff;}#sk-container-id-6 div.sk-label input.sk-toggleable__control:checked~label.sk-toggleable__label {background-color: #d4ebff;}#sk-container-id-6 input.sk-hidden--visually {border: 0;clip: rect(1px 1px 1px 1px);clip: rect(1px, 1px, 1px, 1px);height: 1px;margin: -1px;overflow: hidden;padding: 0;position: absolute;width: 1px;}#sk-container-id-6 div.sk-estimator {font-family: monospace;background-color: #f0f8ff;border: 1px dotted black;border-radius: 0.25em;box-sizing: border-box;margin-bottom: 0.5em;}#sk-container-id-6 div.sk-estimator:hover {background-color: #d4ebff;}#sk-container-id-6 div.sk-parallel-item::after {content: \"\";width: 100%;border-bottom: 1px solid gray;flex-grow: 1;}#sk-container-id-6 div.sk-label:hover label.sk-toggleable__label {background-color: #d4ebff;}#sk-container-id-6 div.sk-serial::before {content: \"\";position: absolute;border-left: 1px solid gray;box-sizing: border-box;top: 0;bottom: 0;left: 50%;z-index: 0;}#sk-container-id-6 div.sk-serial {display: flex;flex-direction: column;align-items: center;background-color: white;padding-right: 0.2em;padding-left: 0.2em;position: relative;}#sk-container-id-6 div.sk-item {position: relative;z-index: 1;}#sk-container-id-6 div.sk-parallel {display: flex;align-items: stretch;justify-content: center;background-color: white;position: relative;}#sk-container-id-6 div.sk-item::before, #sk-container-id-6 div.sk-parallel-item::before {content: \"\";position: absolute;border-left: 1px solid gray;box-sizing: border-box;top: 0;bottom: 0;left: 50%;z-index: -1;}#sk-container-id-6 div.sk-parallel-item {display: flex;flex-direction: column;z-index: 1;position: relative;background-color: white;}#sk-container-id-6 div.sk-parallel-item:first-child::after {align-self: flex-end;width: 50%;}#sk-container-id-6 div.sk-parallel-item:last-child::after {align-self: flex-start;width: 50%;}#sk-container-id-6 div.sk-parallel-item:only-child::after {width: 0;}#sk-container-id-6 div.sk-dashed-wrapped {border: 1px dashed gray;margin: 0 0.4em 0.5em 0.4em;box-sizing: border-box;padding-bottom: 0.4em;background-color: white;}#sk-container-id-6 div.sk-label label {font-family: monospace;font-weight: bold;display: inline-block;line-height: 1.2em;}#sk-container-id-6 div.sk-label-container {text-align: center;}#sk-container-id-6 div.sk-container {/* jupyter's `normalize.less` sets `[hidden] { display: none; }` but bootstrap.min.css set `[hidden] { display: none !important; }` so we also need the `!important` here to be able to override the default hidden behavior on the sphinx rendered scikit-learn.org. See: https://github.com/scikit-learn/scikit-learn/issues/21755 */display: inline-block !important;position: relative;}#sk-container-id-6 div.sk-text-repr-fallback {display: none;}</style><div id=\"sk-container-id-6\" class=\"sk-top-container\"><div class=\"sk-text-repr-fallback\"><pre>SVC(C=1, gamma=0.1, kernel=&#x27;sigmoid&#x27;)</pre><b>In a Jupyter environment, please rerun this cell to show the HTML representation or trust the notebook. <br />On GitHub, the HTML representation is unable to render, please try loading this page with nbviewer.org.</b></div><div class=\"sk-container\" hidden><div class=\"sk-item\"><div class=\"sk-estimator sk-toggleable\"><input class=\"sk-toggleable__control sk-hidden--visually\" id=\"sk-estimator-id-8\" type=\"checkbox\" checked><label for=\"sk-estimator-id-8\" class=\"sk-toggleable__label sk-toggleable__label-arrow\">SVC</label><div class=\"sk-toggleable__content\"><pre>SVC(C=1, gamma=0.1, kernel=&#x27;sigmoid&#x27;)</pre></div></div></div></div></div>"
      ],
      "text/plain": [
       "SVC(C=1, gamma=0.1, kernel='sigmoid')"
      ]
     },
     "execution_count": 43,
     "metadata": {},
     "output_type": "execute_result"
    }
   ],
   "source": [
    "tuned_clf = SVC(C = 1 , gamma = 0.1 , kernel = 'sigmoid')\n",
    "\n",
    "tuned_clf.fit(x_train_scaled,y_train)\n"
   ]
  },
  {
   "cell_type": "code",
   "execution_count": 44,
   "id": "464e4b5d-8b26-48a9-85c4-9dd8100b66a5",
   "metadata": {},
   "outputs": [
    {
     "data": {
      "text/plain": [
       "array([1, 0, 2, 1, 1, 0, 1, 2, 1, 1, 2, 0, 0, 0, 0, 1, 2, 1, 1, 2, 0, 2,\n",
       "       0, 2, 2, 2, 2, 2, 0, 0, 0, 0, 1, 0, 0, 2, 1, 0, 0, 0, 2, 1, 1, 0,\n",
       "       0, 1, 1, 2, 1, 2])"
      ]
     },
     "execution_count": 44,
     "metadata": {},
     "output_type": "execute_result"
    }
   ],
   "source": [
    "y_pred2 = tuned_clf.predict(x_test_scaled)\n",
    "y_pred2"
   ]
  },
  {
   "cell_type": "code",
   "execution_count": 45,
   "id": "4c0df7e9-84c3-4270-8a11-8b2e40942ed6",
   "metadata": {},
   "outputs": [
    {
     "name": "stdout",
     "output_type": "stream",
     "text": [
      "0.98\n"
     ]
    }
   ],
   "source": [
    "print(accuracy_score(y_test , y_pred2))"
   ]
  },
  {
   "cell_type": "code",
   "execution_count": null,
   "id": "039d8df9-f42f-40d1-b121-400f7e2cdea7",
   "metadata": {},
   "outputs": [],
   "source": []
  }
 ],
 "metadata": {
  "kernelspec": {
   "display_name": "Python 3 (ipykernel)",
   "language": "python",
   "name": "python3"
  },
  "language_info": {
   "codemirror_mode": {
    "name": "ipython",
    "version": 3
   },
   "file_extension": ".py",
   "mimetype": "text/x-python",
   "name": "python",
   "nbconvert_exporter": "python",
   "pygments_lexer": "ipython3",
   "version": "3.10.8"
  }
 },
 "nbformat": 4,
 "nbformat_minor": 5
}
